{
  "nbformat": 4,
  "nbformat_minor": 0,
  "metadata": {
    "colab": {
      "name": "Untitled2.ipynb",
      "provenance": [],
      "collapsed_sections": [],
      "authorship_tag": "ABX9TyMondwI79XlmqSND7TRqwF8",
      "include_colab_link": true
    },
    "kernelspec": {
      "name": "python3",
      "display_name": "Python 3"
    }
  },
  "cells": [
    {
      "cell_type": "markdown",
      "metadata": {
        "id": "view-in-github",
        "colab_type": "text"
      },
      "source": [
        "<a href=\"https://colab.research.google.com/github/sharjeelnawaz8182/demand_prediction_system/blob/main/demand%20prediction%20system.ipynb\" target=\"_parent\"><img src=\"https://colab.research.google.com/assets/colab-badge.svg\" alt=\"Open In Colab\"/></a>"
      ]
    },
    {
      "cell_type": "code",
      "metadata": {
        "colab": {
          "resources": {
            "http://localhost:8080/nbextensions/google.colab/files.js": {
              "data": "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",
              "ok": true,
              "headers": [
                [
                  "content-type",
                  "application/javascript"
                ]
              ],
              "status": 200,
              "status_text": "OK"
            }
          },
          "base_uri": "https://localhost:8080/",
          "height": 75
        },
        "id": "k24kqQ8oLzeD",
        "outputId": "2f54af14-970d-46f0-f35b-e6521ab373bc"
      },
      "source": [
        "import pandas as pd\r\n",
        "from google.colab import files\r\n",
        "import io\r\n",
        "from sklearn.model_selection import train_test_split\r\n",
        "from matplotlib import pyplot\r\n",
        "uploaded = files.upload()\r\n"
      ],
      "execution_count": 1,
      "outputs": [
        {
          "output_type": "display_data",
          "data": {
            "text/html": [
              "\n",
              "     <input type=\"file\" id=\"files-a01d52bd-1b74-4e02-90a2-08ad993e3c10\" name=\"files[]\" multiple disabled\n",
              "        style=\"border:none\" />\n",
              "     <output id=\"result-a01d52bd-1b74-4e02-90a2-08ad993e3c10\">\n",
              "      Upload widget is only available when the cell has been executed in the\n",
              "      current browser session. Please rerun this cell to enable.\n",
              "      </output>\n",
              "      <script src=\"/nbextensions/google.colab/files.js\"></script> "
            ],
            "text/plain": [
              "<IPython.core.display.HTML object>"
            ]
          },
          "metadata": {
            "tags": []
          }
        },
        {
          "output_type": "stream",
          "text": [
            "Saving data.csv to data.csv\n"
          ],
          "name": "stdout"
        }
      ]
    },
    {
      "cell_type": "code",
      "metadata": {
        "id": "Fgs8AK2TMMhX"
      },
      "source": [
        "df = pd.read_csv(io.BytesIO(uploaded['data.csv']),encoding=\"ISO-8859-1\",dtype={'CustomerID': str})"
      ],
      "execution_count": 457,
      "outputs": []
    },
    {
      "cell_type": "code",
      "metadata": {
        "colab": {
          "base_uri": "https://localhost:8080/",
          "height": 206
        },
        "id": "esl5qksUMRrZ",
        "outputId": "6480d0f2-6e0d-4e72-9823-023ab224e1c7"
      },
      "source": [
        "df.head()"
      ],
      "execution_count": 458,
      "outputs": [
        {
          "output_type": "execute_result",
          "data": {
            "text/html": [
              "<div>\n",
              "<style scoped>\n",
              "    .dataframe tbody tr th:only-of-type {\n",
              "        vertical-align: middle;\n",
              "    }\n",
              "\n",
              "    .dataframe tbody tr th {\n",
              "        vertical-align: top;\n",
              "    }\n",
              "\n",
              "    .dataframe thead th {\n",
              "        text-align: right;\n",
              "    }\n",
              "</style>\n",
              "<table border=\"1\" class=\"dataframe\">\n",
              "  <thead>\n",
              "    <tr style=\"text-align: right;\">\n",
              "      <th></th>\n",
              "      <th>InvoiceNo</th>\n",
              "      <th>StockCode</th>\n",
              "      <th>Description</th>\n",
              "      <th>Quantity</th>\n",
              "      <th>InvoiceDate</th>\n",
              "      <th>UnitPrice</th>\n",
              "      <th>CustomerID</th>\n",
              "      <th>Country</th>\n",
              "    </tr>\n",
              "  </thead>\n",
              "  <tbody>\n",
              "    <tr>\n",
              "      <th>0</th>\n",
              "      <td>536365</td>\n",
              "      <td>85123A</td>\n",
              "      <td>WHITE HANGING HEART T-LIGHT HOLDER</td>\n",
              "      <td>6</td>\n",
              "      <td>12/1/2010 8:26</td>\n",
              "      <td>2.55</td>\n",
              "      <td>17850</td>\n",
              "      <td>United Kingdom</td>\n",
              "    </tr>\n",
              "    <tr>\n",
              "      <th>1</th>\n",
              "      <td>536365</td>\n",
              "      <td>71053</td>\n",
              "      <td>WHITE METAL LANTERN</td>\n",
              "      <td>6</td>\n",
              "      <td>12/1/2010 8:26</td>\n",
              "      <td>3.39</td>\n",
              "      <td>17850</td>\n",
              "      <td>United Kingdom</td>\n",
              "    </tr>\n",
              "    <tr>\n",
              "      <th>2</th>\n",
              "      <td>536365</td>\n",
              "      <td>84406B</td>\n",
              "      <td>CREAM CUPID HEARTS COAT HANGER</td>\n",
              "      <td>8</td>\n",
              "      <td>12/1/2010 8:26</td>\n",
              "      <td>2.75</td>\n",
              "      <td>17850</td>\n",
              "      <td>United Kingdom</td>\n",
              "    </tr>\n",
              "    <tr>\n",
              "      <th>3</th>\n",
              "      <td>536365</td>\n",
              "      <td>84029G</td>\n",
              "      <td>KNITTED UNION FLAG HOT WATER BOTTLE</td>\n",
              "      <td>6</td>\n",
              "      <td>12/1/2010 8:26</td>\n",
              "      <td>3.39</td>\n",
              "      <td>17850</td>\n",
              "      <td>United Kingdom</td>\n",
              "    </tr>\n",
              "    <tr>\n",
              "      <th>4</th>\n",
              "      <td>536365</td>\n",
              "      <td>84029E</td>\n",
              "      <td>RED WOOLLY HOTTIE WHITE HEART.</td>\n",
              "      <td>6</td>\n",
              "      <td>12/1/2010 8:26</td>\n",
              "      <td>3.39</td>\n",
              "      <td>17850</td>\n",
              "      <td>United Kingdom</td>\n",
              "    </tr>\n",
              "  </tbody>\n",
              "</table>\n",
              "</div>"
            ],
            "text/plain": [
              "  InvoiceNo StockCode  ... CustomerID         Country\n",
              "0    536365    85123A  ...      17850  United Kingdom\n",
              "1    536365     71053  ...      17850  United Kingdom\n",
              "2    536365    84406B  ...      17850  United Kingdom\n",
              "3    536365    84029G  ...      17850  United Kingdom\n",
              "4    536365    84029E  ...      17850  United Kingdom\n",
              "\n",
              "[5 rows x 8 columns]"
            ]
          },
          "metadata": {
            "tags": []
          },
          "execution_count": 458
        }
      ]
    },
    {
      "cell_type": "code",
      "metadata": {
        "colab": {
          "base_uri": "https://localhost:8080/"
        },
        "id": "EKvnPy_3XaSl",
        "outputId": "a1bf8227-b36f-49fa-cf12-b80e8deda85b"
      },
      "source": [
        "df.isnull().sum()"
      ],
      "execution_count": 459,
      "outputs": [
        {
          "output_type": "execute_result",
          "data": {
            "text/plain": [
              "InvoiceNo           0\n",
              "StockCode           0\n",
              "Description      1454\n",
              "Quantity            0\n",
              "InvoiceDate         0\n",
              "UnitPrice           0\n",
              "CustomerID     135080\n",
              "Country             0\n",
              "dtype: int64"
            ]
          },
          "metadata": {
            "tags": []
          },
          "execution_count": 459
        }
      ]
    },
    {
      "cell_type": "code",
      "metadata": {
        "id": "I_P6SUGLbLQ-"
      },
      "source": [
        "df.dropna(axis=0,how='any',inplace=True)"
      ],
      "execution_count": 460,
      "outputs": []
    },
    {
      "cell_type": "code",
      "metadata": {
        "colab": {
          "base_uri": "https://localhost:8080/"
        },
        "id": "rsUUQzUJbhIA",
        "outputId": "093c98f1-d206-4709-f12a-f403f2ee774c"
      },
      "source": [
        "df.isnull().sum()"
      ],
      "execution_count": 461,
      "outputs": [
        {
          "output_type": "execute_result",
          "data": {
            "text/plain": [
              "InvoiceNo      0\n",
              "StockCode      0\n",
              "Description    0\n",
              "Quantity       0\n",
              "InvoiceDate    0\n",
              "UnitPrice      0\n",
              "CustomerID     0\n",
              "Country        0\n",
              "dtype: int64"
            ]
          },
          "metadata": {
            "tags": []
          },
          "execution_count": 461
        }
      ]
    },
    {
      "cell_type": "code",
      "metadata": {
        "id": "fOwoqMrseJp1"
      },
      "source": [
        "df.drop(labels=['InvoiceNo','Description'],axis=1,inplace=True)"
      ],
      "execution_count": 462,
      "outputs": []
    },
    {
      "cell_type": "code",
      "metadata": {
        "colab": {
          "base_uri": "https://localhost:8080/",
          "height": 206
        },
        "id": "gWgY_ynMxBxW",
        "outputId": "11bc9586-9e1e-4643-a3dc-33e74dbff476"
      },
      "source": [
        "df.head()"
      ],
      "execution_count": 463,
      "outputs": [
        {
          "output_type": "execute_result",
          "data": {
            "text/html": [
              "<div>\n",
              "<style scoped>\n",
              "    .dataframe tbody tr th:only-of-type {\n",
              "        vertical-align: middle;\n",
              "    }\n",
              "\n",
              "    .dataframe tbody tr th {\n",
              "        vertical-align: top;\n",
              "    }\n",
              "\n",
              "    .dataframe thead th {\n",
              "        text-align: right;\n",
              "    }\n",
              "</style>\n",
              "<table border=\"1\" class=\"dataframe\">\n",
              "  <thead>\n",
              "    <tr style=\"text-align: right;\">\n",
              "      <th></th>\n",
              "      <th>StockCode</th>\n",
              "      <th>Quantity</th>\n",
              "      <th>InvoiceDate</th>\n",
              "      <th>UnitPrice</th>\n",
              "      <th>CustomerID</th>\n",
              "      <th>Country</th>\n",
              "    </tr>\n",
              "  </thead>\n",
              "  <tbody>\n",
              "    <tr>\n",
              "      <th>0</th>\n",
              "      <td>85123A</td>\n",
              "      <td>6</td>\n",
              "      <td>12/1/2010 8:26</td>\n",
              "      <td>2.55</td>\n",
              "      <td>17850</td>\n",
              "      <td>United Kingdom</td>\n",
              "    </tr>\n",
              "    <tr>\n",
              "      <th>1</th>\n",
              "      <td>71053</td>\n",
              "      <td>6</td>\n",
              "      <td>12/1/2010 8:26</td>\n",
              "      <td>3.39</td>\n",
              "      <td>17850</td>\n",
              "      <td>United Kingdom</td>\n",
              "    </tr>\n",
              "    <tr>\n",
              "      <th>2</th>\n",
              "      <td>84406B</td>\n",
              "      <td>8</td>\n",
              "      <td>12/1/2010 8:26</td>\n",
              "      <td>2.75</td>\n",
              "      <td>17850</td>\n",
              "      <td>United Kingdom</td>\n",
              "    </tr>\n",
              "    <tr>\n",
              "      <th>3</th>\n",
              "      <td>84029G</td>\n",
              "      <td>6</td>\n",
              "      <td>12/1/2010 8:26</td>\n",
              "      <td>3.39</td>\n",
              "      <td>17850</td>\n",
              "      <td>United Kingdom</td>\n",
              "    </tr>\n",
              "    <tr>\n",
              "      <th>4</th>\n",
              "      <td>84029E</td>\n",
              "      <td>6</td>\n",
              "      <td>12/1/2010 8:26</td>\n",
              "      <td>3.39</td>\n",
              "      <td>17850</td>\n",
              "      <td>United Kingdom</td>\n",
              "    </tr>\n",
              "  </tbody>\n",
              "</table>\n",
              "</div>"
            ],
            "text/plain": [
              "  StockCode  Quantity     InvoiceDate  UnitPrice CustomerID         Country\n",
              "0    85123A         6  12/1/2010 8:26       2.55      17850  United Kingdom\n",
              "1     71053         6  12/1/2010 8:26       3.39      17850  United Kingdom\n",
              "2    84406B         8  12/1/2010 8:26       2.75      17850  United Kingdom\n",
              "3    84029G         6  12/1/2010 8:26       3.39      17850  United Kingdom\n",
              "4    84029E         6  12/1/2010 8:26       3.39      17850  United Kingdom"
            ]
          },
          "metadata": {
            "tags": []
          },
          "execution_count": 463
        }
      ]
    },
    {
      "cell_type": "code",
      "metadata": {
        "colab": {
          "base_uri": "https://localhost:8080/"
        },
        "id": "0nf2rvqLyufk",
        "outputId": "07d3555b-d546-4452-f6e9-718e0c9c5efd"
      },
      "source": [
        "df['InvoiceDate']=pd.to_datetime(df['InvoiceDate'])\r\n",
        "df[\"Year\"] = df.InvoiceDate.dt.year\r\n",
        "df[\"Quarter\"] = df.InvoiceDate.dt.quarter\r\n",
        "df[\"Month\"] = df.InvoiceDate.dt.month\r\n",
        "df[\"Week\"] = df.InvoiceDate.dt.week\r\n",
        "df[\"Weekday\"] = df.InvoiceDate.dt.weekday\r\n",
        "df[\"Day\"] = df.InvoiceDate.dt.day\r\n",
        "df[\"Dayofyear\"] = df.InvoiceDate.dt.dayofyear"
      ],
      "execution_count": 464,
      "outputs": [
        {
          "output_type": "stream",
          "text": [
            "/usr/local/lib/python3.7/dist-packages/ipykernel_launcher.py:5: FutureWarning: Series.dt.weekofyear and Series.dt.week have been deprecated.  Please use Series.dt.isocalendar().week instead.\n",
            "  \"\"\"\n"
          ],
          "name": "stderr"
        }
      ]
    },
    {
      "cell_type": "code",
      "metadata": {
        "colab": {
          "base_uri": "https://localhost:8080/",
          "height": 434
        },
        "id": "GgoenmgX04Jk",
        "outputId": "ec48dd06-34f7-4adb-d71d-187ccd7ca182"
      },
      "source": [
        "df.boxplot(column='UnitPrice')\r\n",
        "df.UnitPrice.describe()\r\n"
      ],
      "execution_count": 465,
      "outputs": [
        {
          "output_type": "execute_result",
          "data": {
            "text/plain": [
              "count    406829.000000\n",
              "mean          3.460471\n",
              "std          69.315162\n",
              "min           0.000000\n",
              "25%           1.250000\n",
              "50%           1.950000\n",
              "75%           3.750000\n",
              "max       38970.000000\n",
              "Name: UnitPrice, dtype: float64"
            ]
          },
          "metadata": {
            "tags": []
          },
          "execution_count": 465
        },
        {
          "output_type": "display_data",
          "data": {
            "image/png": "[encoded data removed]",
            "text/plain": [
              "<Figure size 432x288 with 1 Axes>"
            ]
          },
          "metadata": {
            "tags": [],
            "needs_background": "light"
          }
        }
      ]
    },
    {
      "cell_type": "code",
      "metadata": {
        "id": "P6icJQEvBhev"
      },
      "source": [
        "import numpy as np "
      ],
      "execution_count": 466,
      "outputs": []
    },
    {
      "cell_type": "code",
      "metadata": {
        "colab": {
          "base_uri": "https://localhost:8080/"
        },
        "id": "nuv6C_arbItk",
        "outputId": "bad70605-a75e-4602-d2aa-1111f614331b"
      },
      "source": [
        "tem=np.quantile(df.UnitPrice, 0.9967)\r\n",
        "df = df.loc[df.UnitPrice <= tem].copy()\r\n",
        "print(tem)"
      ],
      "execution_count": 467,
      "outputs": [
        {
          "output_type": "stream",
          "text": [
            "20.8\n"
          ],
          "name": "stdout"
        }
      ]
    },
    {
      "cell_type": "code",
      "metadata": {
        "colab": {
          "base_uri": "https://localhost:8080/",
          "height": 434
        },
        "id": "ynRUyotEVjxN",
        "outputId": "cba3a3ff-9331-48fa-aeb2-2cf25fca0e68"
      },
      "source": [
        "df.boxplot(column='Quantity')\r\n",
        "df.Quantity.describe()"
      ],
      "execution_count": 468,
      "outputs": [
        {
          "output_type": "execute_result",
          "data": {
            "text/plain": [
              "count    405498.000000\n",
              "mean         12.096131\n",
              "std         249.100364\n",
              "min      -80995.000000\n",
              "25%           2.000000\n",
              "50%           5.000000\n",
              "75%          12.000000\n",
              "max       80995.000000\n",
              "Name: Quantity, dtype: float64"
            ]
          },
          "metadata": {
            "tags": []
          },
          "execution_count": 468
        },
        {
          "output_type": "display_data",
          "data": {
            "image/png": "[encoded data removed]",
            "text/plain": [
              "<Figure size 432x288 with 1 Axes>"
            ]
          },
          "metadata": {
            "tags": [],
            "needs_background": "light"
          }
        }
      ]
    },
    {
      "cell_type": "code",
      "metadata": {
        "id": "Q7A17HwBYwDd"
      },
      "source": [
        "temp=np.quantile(df.Quantity, 0.97)"
      ],
      "execution_count": 469,
      "outputs": []
    },
    {
      "cell_type": "code",
      "metadata": {
        "id": "2gKkw096VTi-"
      },
      "source": [
        "df = df.loc[df.UnitPrice > 0].copy()"
      ],
      "execution_count": 470,
      "outputs": []
    },
    {
      "cell_type": "code",
      "metadata": {
        "colab": {
          "base_uri": "https://localhost:8080/"
        },
        "id": "t_dSWE0yjury",
        "outputId": "790448bb-ce93-4ac6-a043-829666197239"
      },
      "source": [
        "df = df.loc[df.Quantity>=1].copy()\r\n",
        "df.Quantity.describe()"
      ],
      "execution_count": 471,
      "outputs": [
        {
          "output_type": "execute_result",
          "data": {
            "text/plain": [
              "count    396780.000000\n",
              "mean         13.018743\n",
              "std         179.580057\n",
              "min           1.000000\n",
              "25%           2.000000\n",
              "50%           6.000000\n",
              "75%          12.000000\n",
              "max       80995.000000\n",
              "Name: Quantity, dtype: float64"
            ]
          },
          "metadata": {
            "tags": []
          },
          "execution_count": 471
        }
      ]
    },
    {
      "cell_type": "code",
      "metadata": {
        "colab": {
          "base_uri": "https://localhost:8080/",
          "height": 434
        },
        "id": "x_M6bNf-sp2R",
        "outputId": "67055d84-f126-47c3-d59b-7e3c99bb8531"
      },
      "source": [
        "df = df.loc[df.Quantity <=temp].copy()\r\n",
        "df.boxplot(column='Quantity')\r\n",
        "df.Quantity.describe()"
      ],
      "execution_count": 472,
      "outputs": [
        {
          "output_type": "execute_result",
          "data": {
            "text/plain": [
              "count    372348.000000\n",
              "mean          7.119351\n",
              "std           6.778948\n",
              "min           1.000000\n",
              "25%           2.000000\n",
              "50%           4.000000\n",
              "75%          12.000000\n",
              "max          30.000000\n",
              "Name: Quantity, dtype: float64"
            ]
          },
          "metadata": {
            "tags": []
          },
          "execution_count": 472
        },
        {
          "output_type": "display_data",
          "data": {
            "image/png": "[encoded data removed]",
            "text/plain": [
              "<Figure size 432x288 with 1 Axes>"
            ]
          },
          "metadata": {
            "tags": [],
            "needs_background": "light"
          }
        }
      ]
    },
    {
      "cell_type": "code",
      "metadata": {
        "id": "MAlfq99DDHJ4",
        "colab": {
          "base_uri": "https://localhost:8080/",
          "height": 206
        },
        "outputId": "60d31aaa-aabe-4dd7-95b3-5358009d5a98"
      },
      "source": [
        "data = pd.DataFrame(df.groupby([\"Year\",\"Quarter\",\"Month\", \"Week\", \"Weekday\", \"Dayofyear\", \"Day\",\r\n",
        "                    \"StockCode\"]).Quantity.sum(),columns=[\"Quantity\"])\r\n",
        "data = data.reset_index()\r\n",
        "data.head()"
      ],
      "execution_count": 473,
      "outputs": [
        {
          "output_type": "execute_result",
          "data": {
            "text/html": [
              "<div>\n",
              "<style scoped>\n",
              "    .dataframe tbody tr th:only-of-type {\n",
              "        vertical-align: middle;\n",
              "    }\n",
              "\n",
              "    .dataframe tbody tr th {\n",
              "        vertical-align: top;\n",
              "    }\n",
              "\n",
              "    .dataframe thead th {\n",
              "        text-align: right;\n",
              "    }\n",
              "</style>\n",
              "<table border=\"1\" class=\"dataframe\">\n",
              "  <thead>\n",
              "    <tr style=\"text-align: right;\">\n",
              "      <th></th>\n",
              "      <th>Year</th>\n",
              "      <th>Quarter</th>\n",
              "      <th>Month</th>\n",
              "      <th>Week</th>\n",
              "      <th>Weekday</th>\n",
              "      <th>Dayofyear</th>\n",
              "      <th>Day</th>\n",
              "      <th>StockCode</th>\n",
              "      <th>Quantity</th>\n",
              "    </tr>\n",
              "  </thead>\n",
              "  <tbody>\n",
              "    <tr>\n",
              "      <th>0</th>\n",
              "      <td>2010</td>\n",
              "      <td>4</td>\n",
              "      <td>12</td>\n",
              "      <td>48</td>\n",
              "      <td>2</td>\n",
              "      <td>335</td>\n",
              "      <td>1</td>\n",
              "      <td>10002</td>\n",
              "      <td>12</td>\n",
              "    </tr>\n",
              "    <tr>\n",
              "      <th>1</th>\n",
              "      <td>2010</td>\n",
              "      <td>4</td>\n",
              "      <td>12</td>\n",
              "      <td>48</td>\n",
              "      <td>2</td>\n",
              "      <td>335</td>\n",
              "      <td>1</td>\n",
              "      <td>10125</td>\n",
              "      <td>2</td>\n",
              "    </tr>\n",
              "    <tr>\n",
              "      <th>2</th>\n",
              "      <td>2010</td>\n",
              "      <td>4</td>\n",
              "      <td>12</td>\n",
              "      <td>48</td>\n",
              "      <td>2</td>\n",
              "      <td>335</td>\n",
              "      <td>1</td>\n",
              "      <td>10133</td>\n",
              "      <td>5</td>\n",
              "    </tr>\n",
              "    <tr>\n",
              "      <th>3</th>\n",
              "      <td>2010</td>\n",
              "      <td>4</td>\n",
              "      <td>12</td>\n",
              "      <td>48</td>\n",
              "      <td>2</td>\n",
              "      <td>335</td>\n",
              "      <td>1</td>\n",
              "      <td>15044B</td>\n",
              "      <td>1</td>\n",
              "    </tr>\n",
              "    <tr>\n",
              "      <th>4</th>\n",
              "      <td>2010</td>\n",
              "      <td>4</td>\n",
              "      <td>12</td>\n",
              "      <td>48</td>\n",
              "      <td>2</td>\n",
              "      <td>335</td>\n",
              "      <td>1</td>\n",
              "      <td>15056BL</td>\n",
              "      <td>20</td>\n",
              "    </tr>\n",
              "  </tbody>\n",
              "</table>\n",
              "</div>"
            ],
            "text/plain": [
              "   Year  Quarter  Month  Week  Weekday  Dayofyear  Day StockCode  Quantity\n",
              "0  2010        4     12    48        2        335    1     10002        12\n",
              "1  2010        4     12    48        2        335    1     10125         2\n",
              "2  2010        4     12    48        2        335    1     10133         5\n",
              "3  2010        4     12    48        2        335    1    15044B         1\n",
              "4  2010        4     12    48        2        335    1   15056BL        20"
            ]
          },
          "metadata": {
            "tags": []
          },
          "execution_count": 473
        }
      ]
    },
    {
      "cell_type": "code",
      "metadata": {
        "colab": {
          "base_uri": "https://localhost:8080/",
          "height": 393
        },
        "id": "Y1beHERkInzh",
        "outputId": "e6c9ef33-eca3-4d0f-d918-74afda823826"
      },
      "source": [
        "bin_values = np.arange(start=-50, stop=200, step=10)\r\n",
        "data['Quantity'].hist(bins=30, figsize=[14,6])"
      ],
      "execution_count": 474,
      "outputs": [
        {
          "output_type": "execute_result",
          "data": {
            "text/plain": [
              "<matplotlib.axes._subplots.AxesSubplot at 0x7fedd9155d50>"
            ]
          },
          "metadata": {
            "tags": []
          },
          "execution_count": 474
        },
        {
          "output_type": "display_data",
          "data": {
            "image/png": "[encoded data removed]",
            "text/plain": [
              "<Figure size 1008x432 with 1 Axes>"
            ]
          },
          "metadata": {
            "tags": [],
            "needs_background": "light"
          }
        }
      ]
    },
    {
      "cell_type": "code",
      "metadata": {
        "id": "j1DSALwC9bxj"
      },
      "source": [
        "data['Quantity']=np.log(data['Quantity'])"
      ],
      "execution_count": 475,
      "outputs": []
    },
    {
      "cell_type": "code",
      "metadata": {
        "colab": {
          "base_uri": "https://localhost:8080/",
          "height": 395
        },
        "id": "HQh1ilBmI9uU",
        "outputId": "b68148c8-4ba8-4b0c-b5ab-e552ba94cfd3"
      },
      "source": [
        "bin_values = np.arange(start=-50, stop=200, step=10)\r\n",
        "data['Quantity'].hist(bins=30, figsize=[14,6])"
      ],
      "execution_count": 476,
      "outputs": [
        {
          "output_type": "execute_result",
          "data": {
            "text/plain": [
              "<matplotlib.axes._subplots.AxesSubplot at 0x7fedda502f50>"
            ]
          },
          "metadata": {
            "tags": []
          },
          "execution_count": 476
        },
        {
          "output_type": "display_data",
          "data": {
            "image/png": "[encoded data removed]",
            "text/plain": [
              "<Figure size 1008x432 with 1 Axes>"
            ]
          },
          "metadata": {
            "tags": [],
            "needs_background": "light"
          }
        }
      ]
    },
    {
      "cell_type": "code",
      "metadata": {
        "id": "6BBbuGogxpZ-"
      },
      "source": [
        "train, test = train_test_split(data, test_size=0.25, shuffle=False)\r\n",
        "min=train.Quantity.quantile(0.01)\r\n",
        "max=train.Quantity.quantile(0.99)"
      ],
      "execution_count": 477,
      "outputs": []
    },
    {
      "cell_type": "code",
      "metadata": {
        "id": "bMm9uKK0t5vO"
      },
      "source": [
        "train=train.loc[(train.Quantity>=min)&(train.Quantity<=max)]"
      ],
      "execution_count": 478,
      "outputs": []
    },
    {
      "cell_type": "code",
      "metadata": {
        "id": "9r34a_5pW7AV",
        "colab": {
          "base_uri": "https://localhost:8080/",
          "height": 206
        },
        "outputId": "ad48feb0-02ae-48ea-aa59-eb36f1d62ab1"
      },
      "source": [
        "df.head()"
      ],
      "execution_count": 479,
      "outputs": [
        {
          "output_type": "execute_result",
          "data": {
            "text/html": [
              "<div>\n",
              "<style scoped>\n",
              "    .dataframe tbody tr th:only-of-type {\n",
              "        vertical-align: middle;\n",
              "    }\n",
              "\n",
              "    .dataframe tbody tr th {\n",
              "        vertical-align: top;\n",
              "    }\n",
              "\n",
              "    .dataframe thead th {\n",
              "        text-align: right;\n",
              "    }\n",
              "</style>\n",
              "<table border=\"1\" class=\"dataframe\">\n",
              "  <thead>\n",
              "    <tr style=\"text-align: right;\">\n",
              "      <th></th>\n",
              "      <th>StockCode</th>\n",
              "      <th>Quantity</th>\n",
              "      <th>InvoiceDate</th>\n",
              "      <th>UnitPrice</th>\n",
              "      <th>CustomerID</th>\n",
              "      <th>Country</th>\n",
              "      <th>Year</th>\n",
              "      <th>Quarter</th>\n",
              "      <th>Month</th>\n",
              "      <th>Week</th>\n",
              "      <th>Weekday</th>\n",
              "      <th>Day</th>\n",
              "      <th>Dayofyear</th>\n",
              "    </tr>\n",
              "  </thead>\n",
              "  <tbody>\n",
              "    <tr>\n",
              "      <th>0</th>\n",
              "      <td>85123A</td>\n",
              "      <td>6</td>\n",
              "      <td>2010-12-01 08:26:00</td>\n",
              "      <td>2.55</td>\n",
              "      <td>17850</td>\n",
              "      <td>United Kingdom</td>\n",
              "      <td>2010</td>\n",
              "      <td>4</td>\n",
              "      <td>12</td>\n",
              "      <td>48</td>\n",
              "      <td>2</td>\n",
              "      <td>1</td>\n",
              "      <td>335</td>\n",
              "    </tr>\n",
              "    <tr>\n",
              "      <th>1</th>\n",
              "      <td>71053</td>\n",
              "      <td>6</td>\n",
              "      <td>2010-12-01 08:26:00</td>\n",
              "      <td>3.39</td>\n",
              "      <td>17850</td>\n",
              "      <td>United Kingdom</td>\n",
              "      <td>2010</td>\n",
              "      <td>4</td>\n",
              "      <td>12</td>\n",
              "      <td>48</td>\n",
              "      <td>2</td>\n",
              "      <td>1</td>\n",
              "      <td>335</td>\n",
              "    </tr>\n",
              "    <tr>\n",
              "      <th>2</th>\n",
              "      <td>84406B</td>\n",
              "      <td>8</td>\n",
              "      <td>2010-12-01 08:26:00</td>\n",
              "      <td>2.75</td>\n",
              "      <td>17850</td>\n",
              "      <td>United Kingdom</td>\n",
              "      <td>2010</td>\n",
              "      <td>4</td>\n",
              "      <td>12</td>\n",
              "      <td>48</td>\n",
              "      <td>2</td>\n",
              "      <td>1</td>\n",
              "      <td>335</td>\n",
              "    </tr>\n",
              "    <tr>\n",
              "      <th>3</th>\n",
              "      <td>84029G</td>\n",
              "      <td>6</td>\n",
              "      <td>2010-12-01 08:26:00</td>\n",
              "      <td>3.39</td>\n",
              "      <td>17850</td>\n",
              "      <td>United Kingdom</td>\n",
              "      <td>2010</td>\n",
              "      <td>4</td>\n",
              "      <td>12</td>\n",
              "      <td>48</td>\n",
              "      <td>2</td>\n",
              "      <td>1</td>\n",
              "      <td>335</td>\n",
              "    </tr>\n",
              "    <tr>\n",
              "      <th>4</th>\n",
              "      <td>84029E</td>\n",
              "      <td>6</td>\n",
              "      <td>2010-12-01 08:26:00</td>\n",
              "      <td>3.39</td>\n",
              "      <td>17850</td>\n",
              "      <td>United Kingdom</td>\n",
              "      <td>2010</td>\n",
              "      <td>4</td>\n",
              "      <td>12</td>\n",
              "      <td>48</td>\n",
              "      <td>2</td>\n",
              "      <td>1</td>\n",
              "      <td>335</td>\n",
              "    </tr>\n",
              "  </tbody>\n",
              "</table>\n",
              "</div>"
            ],
            "text/plain": [
              "  StockCode  Quantity         InvoiceDate  ...  Weekday Day Dayofyear\n",
              "0    85123A         6 2010-12-01 08:26:00  ...        2   1       335\n",
              "1     71053         6 2010-12-01 08:26:00  ...        2   1       335\n",
              "2    84406B         8 2010-12-01 08:26:00  ...        2   1       335\n",
              "3    84029G         6 2010-12-01 08:26:00  ...        2   1       335\n",
              "4    84029E         6 2010-12-01 08:26:00  ...        2   1       335\n",
              "\n",
              "[5 rows x 13 columns]"
            ]
          },
          "metadata": {
            "tags": []
          },
          "execution_count": 479
        }
      ]
    },
    {
      "cell_type": "code",
      "metadata": {
        "id": "nEfSHqY1N_iA"
      },
      "source": [
        "detail=pd.DataFrame(index=df.StockCode.unique(),columns = [\"Median_Price\"])"
      ],
      "execution_count": 480,
      "outputs": []
    },
    {
      "cell_type": "code",
      "metadata": {
        "id": "UgsfjjLlQtmD"
      },
      "source": [
        "detail[\"Median_Price\"]=df.groupby(\"StockCode\").UnitPrice.median()\r\n",
        "detail[\"median_qauntity\"]=df.groupby(\"StockCode\").Quantity.median()\r\n",
        "detail[\"cust_no\"]=df.groupby(\"StockCode\").CustomerID.nunique()"
      ],
      "execution_count": 481,
      "outputs": []
    },
    {
      "cell_type": "code",
      "metadata": {
        "id": "dUPT9wBhX7O0"
      },
      "source": [
        "from sklearn.preprocessing import StandardScaler\r\n",
        "from sklearn.cluster import KMeans\r\n",
        "scaler=StandardScaler()\r\n",
        "X = detail.values\r\n",
        "X = scaler.fit_transform(X)\r\n",
        "clusters=KMeans(n_clusters=75)\r\n",
        "detail[\"cluster\"]=clusters.fit_predict(X)"
      ],
      "execution_count": 482,
      "outputs": []
    },
    {
      "cell_type": "code",
      "metadata": {
        "colab": {
          "base_uri": "https://localhost:8080/"
        },
        "id": "DzoGeSECbXig",
        "outputId": "de6f6d14-d411-47c0-be5d-6919c2f4704e"
      },
      "source": [
        "train[\"product_type\"]=train.StockCode.map(detail.cluster)\r\n",
        "test[\"product_type\"]=test.StockCode.map(detail.cluster)\r\n",
        "train.product_type=train.product_type.astype(\"object\")\r\n",
        "test.product_type=test.product_type.astype(\"object\")"
      ],
      "execution_count": 483,
      "outputs": [
        {
          "output_type": "stream",
          "text": [
            "/usr/local/lib/python3.7/dist-packages/ipykernel_launcher.py:2: SettingWithCopyWarning: \n",
            "A value is trying to be set on a copy of a slice from a DataFrame.\n",
            "Try using .loc[row_indexer,col_indexer] = value instead\n",
            "\n",
            "See the caveats in the documentation: https://pandas.pydata.org/pandas-docs/stable/user_guide/indexing.html#returning-a-view-versus-a-copy\n",
            "  \n",
            "/usr/local/lib/python3.7/dist-packages/pandas/core/generic.py:5170: SettingWithCopyWarning: \n",
            "A value is trying to be set on a copy of a slice from a DataFrame.\n",
            "Try using .loc[row_indexer,col_indexer] = value instead\n",
            "\n",
            "See the caveats in the documentation: https://pandas.pydata.org/pandas-docs/stable/user_guide/indexing.html#returning-a-view-versus-a-copy\n",
            "  self[name] = value\n"
          ],
          "name": "stderr"
        }
      ]
    },
    {
      "cell_type": "code",
      "metadata": {
        "colab": {
          "base_uri": "https://localhost:8080/"
        },
        "id": "yvxOiG2LgVHs",
        "outputId": "3f54fe28-2db9-4668-b2f9-e4413a6c0e51"
      },
      "source": [
        "train[\"pre_chris\"]=(train.Dayofyear <= 358)&(train.Dayofyear>=243)\r\n",
        "test[\"pre_chris\"]=(test.Dayofyear<=358)&(test.Dayofyear>=243)"
      ],
      "execution_count": 484,
      "outputs": [
        {
          "output_type": "stream",
          "text": [
            "/usr/local/lib/python3.7/dist-packages/ipykernel_launcher.py:2: SettingWithCopyWarning: \n",
            "A value is trying to be set on a copy of a slice from a DataFrame.\n",
            "Try using .loc[row_indexer,col_indexer] = value instead\n",
            "\n",
            "See the caveats in the documentation: https://pandas.pydata.org/pandas-docs/stable/user_guide/indexing.html#returning-a-view-versus-a-copy\n",
            "  \n"
          ],
          "name": "stderr"
        }
      ]
    },
    {
      "cell_type": "code",
      "metadata": {
        "colab": {
          "base_uri": "https://localhost:8080/",
          "height": 206
        },
        "id": "z9rdmNLBXuKQ",
        "outputId": "7b7155d5-b25d-4068-f637-29014d08f8ae"
      },
      "source": [
        "train.head()"
      ],
      "execution_count": 485,
      "outputs": [
        {
          "output_type": "execute_result",
          "data": {
            "text/html": [
              "<div>\n",
              "<style scoped>\n",
              "    .dataframe tbody tr th:only-of-type {\n",
              "        vertical-align: middle;\n",
              "    }\n",
              "\n",
              "    .dataframe tbody tr th {\n",
              "        vertical-align: top;\n",
              "    }\n",
              "\n",
              "    .dataframe thead th {\n",
              "        text-align: right;\n",
              "    }\n",
              "</style>\n",
              "<table border=\"1\" class=\"dataframe\">\n",
              "  <thead>\n",
              "    <tr style=\"text-align: right;\">\n",
              "      <th></th>\n",
              "      <th>Year</th>\n",
              "      <th>Quarter</th>\n",
              "      <th>Month</th>\n",
              "      <th>Week</th>\n",
              "      <th>Weekday</th>\n",
              "      <th>Dayofyear</th>\n",
              "      <th>Day</th>\n",
              "      <th>StockCode</th>\n",
              "      <th>Quantity</th>\n",
              "      <th>product_type</th>\n",
              "      <th>pre_chris</th>\n",
              "    </tr>\n",
              "  </thead>\n",
              "  <tbody>\n",
              "    <tr>\n",
              "      <th>0</th>\n",
              "      <td>2010</td>\n",
              "      <td>4</td>\n",
              "      <td>12</td>\n",
              "      <td>48</td>\n",
              "      <td>2</td>\n",
              "      <td>335</td>\n",
              "      <td>1</td>\n",
              "      <td>10002</td>\n",
              "      <td>2.484907</td>\n",
              "      <td>47</td>\n",
              "      <td>True</td>\n",
              "    </tr>\n",
              "    <tr>\n",
              "      <th>1</th>\n",
              "      <td>2010</td>\n",
              "      <td>4</td>\n",
              "      <td>12</td>\n",
              "      <td>48</td>\n",
              "      <td>2</td>\n",
              "      <td>335</td>\n",
              "      <td>1</td>\n",
              "      <td>10125</td>\n",
              "      <td>0.693147</td>\n",
              "      <td>29</td>\n",
              "      <td>True</td>\n",
              "    </tr>\n",
              "    <tr>\n",
              "      <th>2</th>\n",
              "      <td>2010</td>\n",
              "      <td>4</td>\n",
              "      <td>12</td>\n",
              "      <td>48</td>\n",
              "      <td>2</td>\n",
              "      <td>335</td>\n",
              "      <td>1</td>\n",
              "      <td>10133</td>\n",
              "      <td>1.609438</td>\n",
              "      <td>71</td>\n",
              "      <td>True</td>\n",
              "    </tr>\n",
              "    <tr>\n",
              "      <th>3</th>\n",
              "      <td>2010</td>\n",
              "      <td>4</td>\n",
              "      <td>12</td>\n",
              "      <td>48</td>\n",
              "      <td>2</td>\n",
              "      <td>335</td>\n",
              "      <td>1</td>\n",
              "      <td>15044B</td>\n",
              "      <td>0.000000</td>\n",
              "      <td>10</td>\n",
              "      <td>True</td>\n",
              "    </tr>\n",
              "    <tr>\n",
              "      <th>4</th>\n",
              "      <td>2010</td>\n",
              "      <td>4</td>\n",
              "      <td>12</td>\n",
              "      <td>48</td>\n",
              "      <td>2</td>\n",
              "      <td>335</td>\n",
              "      <td>1</td>\n",
              "      <td>15056BL</td>\n",
              "      <td>2.995732</td>\n",
              "      <td>62</td>\n",
              "      <td>True</td>\n",
              "    </tr>\n",
              "  </tbody>\n",
              "</table>\n",
              "</div>"
            ],
            "text/plain": [
              "   Year  Quarter  Month  Week  ...  StockCode  Quantity  product_type pre_chris\n",
              "0  2010        4     12    48  ...      10002  2.484907            47      True\n",
              "1  2010        4     12    48  ...      10125  0.693147            29      True\n",
              "2  2010        4     12    48  ...      10133  1.609438            71      True\n",
              "3  2010        4     12    48  ...     15044B  0.000000            10      True\n",
              "4  2010        4     12    48  ...    15056BL  2.995732            62      True\n",
              "\n",
              "[5 rows x 11 columns]"
            ]
          },
          "metadata": {
            "tags": []
          },
          "execution_count": 485
        }
      ]
    },
    {
      "cell_type": "code",
      "metadata": {
        "id": "kd_sL3wGtT6W"
      },
      "source": [
        "x_train=train.drop(labels='Quantity',axis=1)\r\n",
        "y_train=train.Quantity"
      ],
      "execution_count": 486,
      "outputs": []
    },
    {
      "cell_type": "code",
      "metadata": {
        "id": "NtczVNzP-RLl"
      },
      "source": [
        "x_test=test.drop(labels='Quantity',axis=1)\r\n",
        "y_test=test.Quantity\r\n"
      ],
      "execution_count": 487,
      "outputs": []
    },
    {
      "cell_type": "code",
      "metadata": {
        "id": "Chu3CkQb2Vkd",
        "colab": {
          "base_uri": "https://localhost:8080/"
        },
        "outputId": "46576c9a-d33f-4930-9eb4-8b370443907b"
      },
      "source": [
        "pip install catboost"
      ],
      "execution_count": 488,
      "outputs": [
        {
          "output_type": "stream",
          "text": [
            "Requirement already satisfied: catboost in /usr/local/lib/python3.7/dist-packages (0.24.4)\n",
            "Requirement already satisfied: matplotlib in /usr/local/lib/python3.7/dist-packages (from catboost) (3.2.2)\n",
            "Requirement already satisfied: numpy>=1.16.0 in /usr/local/lib/python3.7/dist-packages (from catboost) (1.19.5)\n",
            "Requirement already satisfied: six in /usr/local/lib/python3.7/dist-packages (from catboost) (1.15.0)\n",
            "Requirement already satisfied: graphviz in /usr/local/lib/python3.7/dist-packages (from catboost) (0.10.1)\n",
            "Requirement already satisfied: pandas>=0.24.0 in /usr/local/lib/python3.7/dist-packages (from catboost) (1.1.5)\n",
            "Requirement already satisfied: plotly in /usr/local/lib/python3.7/dist-packages (from catboost) (4.4.1)\n",
            "Requirement already satisfied: scipy in /usr/local/lib/python3.7/dist-packages (from catboost) (1.4.1)\n",
            "Requirement already satisfied: cycler>=0.10 in /usr/local/lib/python3.7/dist-packages (from matplotlib->catboost) (0.10.0)\n",
            "Requirement already satisfied: pyparsing!=2.0.4,!=2.1.2,!=2.1.6,>=2.0.1 in /usr/local/lib/python3.7/dist-packages (from matplotlib->catboost) (2.4.7)\n",
            "Requirement already satisfied: python-dateutil>=2.1 in /usr/local/lib/python3.7/dist-packages (from matplotlib->catboost) (2.8.1)\n",
            "Requirement already satisfied: kiwisolver>=1.0.1 in /usr/local/lib/python3.7/dist-packages (from matplotlib->catboost) (1.3.1)\n",
            "Requirement already satisfied: pytz>=2017.2 in /usr/local/lib/python3.7/dist-packages (from pandas>=0.24.0->catboost) (2018.9)\n",
            "Requirement already satisfied: retrying>=1.3.3 in /usr/local/lib/python3.7/dist-packages (from plotly->catboost) (1.3.3)\n"
          ],
          "name": "stdout"
        }
      ]
    },
    {
      "cell_type": "code",
      "metadata": {
        "id": "Q7rubO_9y0KN"
      },
      "source": [
        "from catboost import CatBoostRegressor,CatBoost"
      ],
      "execution_count": 489,
      "outputs": []
    },
    {
      "cell_type": "code",
      "metadata": {
        "id": "v4WmPtI62fZC"
      },
      "source": [
        "model=CatBoostRegressor()"
      ],
      "execution_count": 490,
      "outputs": []
    },
    {
      "cell_type": "code",
      "metadata": {
        "colab": {
          "base_uri": "https://localhost:8080/",
          "height": 206
        },
        "id": "8l2DUIFC4saA",
        "outputId": "00c07280-62df-4f07-d25c-25ffcd7dadab"
      },
      "source": [
        "x_train.head()"
      ],
      "execution_count": 491,
      "outputs": [
        {
          "output_type": "execute_result",
          "data": {
            "text/html": [
              "<div>\n",
              "<style scoped>\n",
              "    .dataframe tbody tr th:only-of-type {\n",
              "        vertical-align: middle;\n",
              "    }\n",
              "\n",
              "    .dataframe tbody tr th {\n",
              "        vertical-align: top;\n",
              "    }\n",
              "\n",
              "    .dataframe thead th {\n",
              "        text-align: right;\n",
              "    }\n",
              "</style>\n",
              "<table border=\"1\" class=\"dataframe\">\n",
              "  <thead>\n",
              "    <tr style=\"text-align: right;\">\n",
              "      <th></th>\n",
              "      <th>Year</th>\n",
              "      <th>Quarter</th>\n",
              "      <th>Month</th>\n",
              "      <th>Week</th>\n",
              "      <th>Weekday</th>\n",
              "      <th>Dayofyear</th>\n",
              "      <th>Day</th>\n",
              "      <th>StockCode</th>\n",
              "      <th>product_type</th>\n",
              "      <th>pre_chris</th>\n",
              "    </tr>\n",
              "  </thead>\n",
              "  <tbody>\n",
              "    <tr>\n",
              "      <th>0</th>\n",
              "      <td>2010</td>\n",
              "      <td>4</td>\n",
              "      <td>12</td>\n",
              "      <td>48</td>\n",
              "      <td>2</td>\n",
              "      <td>335</td>\n",
              "      <td>1</td>\n",
              "      <td>10002</td>\n",
              "      <td>47</td>\n",
              "      <td>True</td>\n",
              "    </tr>\n",
              "    <tr>\n",
              "      <th>1</th>\n",
              "      <td>2010</td>\n",
              "      <td>4</td>\n",
              "      <td>12</td>\n",
              "      <td>48</td>\n",
              "      <td>2</td>\n",
              "      <td>335</td>\n",
              "      <td>1</td>\n",
              "      <td>10125</td>\n",
              "      <td>29</td>\n",
              "      <td>True</td>\n",
              "    </tr>\n",
              "    <tr>\n",
              "      <th>2</th>\n",
              "      <td>2010</td>\n",
              "      <td>4</td>\n",
              "      <td>12</td>\n",
              "      <td>48</td>\n",
              "      <td>2</td>\n",
              "      <td>335</td>\n",
              "      <td>1</td>\n",
              "      <td>10133</td>\n",
              "      <td>71</td>\n",
              "      <td>True</td>\n",
              "    </tr>\n",
              "    <tr>\n",
              "      <th>3</th>\n",
              "      <td>2010</td>\n",
              "      <td>4</td>\n",
              "      <td>12</td>\n",
              "      <td>48</td>\n",
              "      <td>2</td>\n",
              "      <td>335</td>\n",
              "      <td>1</td>\n",
              "      <td>15044B</td>\n",
              "      <td>10</td>\n",
              "      <td>True</td>\n",
              "    </tr>\n",
              "    <tr>\n",
              "      <th>4</th>\n",
              "      <td>2010</td>\n",
              "      <td>4</td>\n",
              "      <td>12</td>\n",
              "      <td>48</td>\n",
              "      <td>2</td>\n",
              "      <td>335</td>\n",
              "      <td>1</td>\n",
              "      <td>15056BL</td>\n",
              "      <td>62</td>\n",
              "      <td>True</td>\n",
              "    </tr>\n",
              "  </tbody>\n",
              "</table>\n",
              "</div>"
            ],
            "text/plain": [
              "   Year  Quarter  Month  Week  ...  Day  StockCode  product_type pre_chris\n",
              "0  2010        4     12    48  ...    1      10002            47      True\n",
              "1  2010        4     12    48  ...    1      10125            29      True\n",
              "2  2010        4     12    48  ...    1      10133            71      True\n",
              "3  2010        4     12    48  ...    1     15044B            10      True\n",
              "4  2010        4     12    48  ...    1    15056BL            62      True\n",
              "\n",
              "[5 rows x 10 columns]"
            ]
          },
          "metadata": {
            "tags": []
          },
          "execution_count": 491
        }
      ]
    },
    {
      "cell_type": "code",
      "metadata": {
        "colab": {
          "base_uri": "https://localhost:8080/"
        },
        "id": "qv6KiucK4w0Z",
        "outputId": "053d8ba4-3777-4a54-b7e9-de9d678acfe8"
      },
      "source": [
        "y_train.shape"
      ],
      "execution_count": 492,
      "outputs": [
        {
          "output_type": "execute_result",
          "data": {
            "text/plain": [
              "(157941,)"
            ]
          },
          "metadata": {
            "tags": []
          },
          "execution_count": 492
        }
      ]
    },
    {
      "cell_type": "code",
      "metadata": {
        "id": "JhNmyKsG3C0_"
      },
      "source": [
        "\r\n"
      ],
      "execution_count": 492,
      "outputs": []
    },
    {
      "cell_type": "code",
      "metadata": {
        "id": "GnuapbT49-kU"
      },
      "source": [
        ""
      ],
      "execution_count": 492,
      "outputs": []
    },
    {
      "cell_type": "code",
      "metadata": {
        "id": "N81O8BKiyLB4"
      },
      "source": [
        "from sklearn.metrics import mean_squared_error"
      ],
      "execution_count": 493,
      "outputs": []
    },
    {
      "cell_type": "code",
      "metadata": {
        "colab": {
          "base_uri": "https://localhost:8080/"
        },
        "id": "yW0cEtggwANO",
        "outputId": "ba415549-4b1f-4340-e22a-f39ec3ad070f"
      },
      "source": [
        "pip install scikit-optimize"
      ],
      "execution_count": 494,
      "outputs": [
        {
          "output_type": "stream",
          "text": [
            "Requirement already satisfied: scikit-optimize in /usr/local/lib/python3.7/dist-packages (0.8.1)\n",
            "Requirement already satisfied: scipy>=0.19.1 in /usr/local/lib/python3.7/dist-packages (from scikit-optimize) (1.4.1)\n",
            "Requirement already satisfied: numpy>=1.13.3 in /usr/local/lib/python3.7/dist-packages (from scikit-optimize) (1.19.5)\n",
            "Requirement already satisfied: pyaml>=16.9 in /usr/local/lib/python3.7/dist-packages (from scikit-optimize) (20.4.0)\n",
            "Requirement already satisfied: joblib>=0.11 in /usr/local/lib/python3.7/dist-packages (from scikit-optimize) (1.0.1)\n",
            "Requirement already satisfied: scikit-learn>=0.20.0 in /usr/local/lib/python3.7/dist-packages (from scikit-optimize) (0.22.2.post1)\n",
            "Requirement already satisfied: PyYAML in /usr/local/lib/python3.7/dist-packages (from pyaml>=16.9->scikit-optimize) (3.13)\n"
          ],
          "name": "stdout"
        }
      ]
    },
    {
      "cell_type": "code",
      "metadata": {
        "id": "nAWR6i3apdV_"
      },
      "source": [
        "from sklearn.model_selection import GridSearchCV\r\n",
        "from skopt.space import Real, Categorical,Integer\r\n"
      ],
      "execution_count": 495,
      "outputs": []
    },
    {
      "cell_type": "code",
      "metadata": {
        "colab": {
          "base_uri": "https://localhost:8080/"
        },
        "id": "Yq9s-uF4yNCP",
        "outputId": "2926ad86-abd5-48ee-f4b4-7c18c860641f"
      },
      "source": [
        "\r\n",
        "best_model=CatBoostRegressor()\r\n",
        "\r\n",
        "best_model.fit(X=x_train,y=y_train,cat_features=['StockCode','product_type','pre_chris'])"
      ],
      "execution_count": 496,
      "outputs": [
        {
          "output_type": "stream",
          "text": [
            "Learning rate set to 0.096102\n",
            "0:\tlearn: 1.0899947\ttotal: 82.6ms\tremaining: 1m 22s\n",
            "1:\tlearn: 1.0654533\ttotal: 149ms\tremaining: 1m 14s\n",
            "2:\tlearn: 1.0447493\ttotal: 201ms\tremaining: 1m 6s\n",
            "3:\tlearn: 1.0274868\ttotal: 274ms\tremaining: 1m 8s\n",
            "4:\tlearn: 1.0128184\ttotal: 324ms\tremaining: 1m 4s\n",
            "5:\tlearn: 1.0004981\ttotal: 373ms\tremaining: 1m 1s\n",
            "6:\tlearn: 0.9905458\ttotal: 423ms\tremaining: 60s\n",
            "7:\tlearn: 0.9821056\ttotal: 472ms\tremaining: 58.5s\n",
            "8:\tlearn: 0.9753327\ttotal: 526ms\tremaining: 57.9s\n",
            "9:\tlearn: 0.9694235\ttotal: 596ms\tremaining: 59s\n",
            "10:\tlearn: 0.9645932\ttotal: 644ms\tremaining: 57.9s\n",
            "11:\tlearn: 0.9604307\ttotal: 691ms\tremaining: 56.9s\n",
            "12:\tlearn: 0.9571488\ttotal: 748ms\tremaining: 56.8s\n",
            "13:\tlearn: 0.9534113\ttotal: 813ms\tremaining: 57.3s\n",
            "14:\tlearn: 0.9493802\ttotal: 871ms\tremaining: 57.2s\n",
            "15:\tlearn: 0.9462277\ttotal: 926ms\tremaining: 57s\n",
            "16:\tlearn: 0.9435406\ttotal: 969ms\tremaining: 56s\n",
            "17:\tlearn: 0.9409807\ttotal: 1.03s\tremaining: 56.2s\n",
            "18:\tlearn: 0.9388524\ttotal: 1.09s\tremaining: 56.6s\n",
            "19:\tlearn: 0.9371542\ttotal: 1.15s\tremaining: 56.6s\n",
            "20:\tlearn: 0.9357364\ttotal: 1.2s\tremaining: 55.9s\n",
            "21:\tlearn: 0.9343558\ttotal: 1.25s\tremaining: 55.6s\n",
            "22:\tlearn: 0.9333405\ttotal: 1.31s\tremaining: 55.8s\n",
            "23:\tlearn: 0.9324678\ttotal: 1.37s\tremaining: 55.8s\n",
            "24:\tlearn: 0.9317104\ttotal: 1.42s\tremaining: 55.2s\n",
            "25:\tlearn: 0.9309552\ttotal: 1.46s\tremaining: 54.8s\n",
            "26:\tlearn: 0.9302526\ttotal: 1.54s\tremaining: 55.7s\n",
            "27:\tlearn: 0.9296784\ttotal: 1.6s\tremaining: 55.6s\n",
            "28:\tlearn: 0.9291351\ttotal: 1.68s\tremaining: 56.2s\n",
            "29:\tlearn: 0.9286321\ttotal: 1.76s\tremaining: 57s\n",
            "30:\tlearn: 0.9281457\ttotal: 1.82s\tremaining: 56.8s\n",
            "31:\tlearn: 0.9278093\ttotal: 1.87s\tremaining: 56.5s\n",
            "32:\tlearn: 0.9273483\ttotal: 1.94s\tremaining: 56.9s\n",
            "33:\tlearn: 0.9270357\ttotal: 2.03s\tremaining: 57.7s\n",
            "34:\tlearn: 0.9267263\ttotal: 2.08s\tremaining: 57.4s\n",
            "35:\tlearn: 0.9264291\ttotal: 2.13s\tremaining: 56.9s\n",
            "36:\tlearn: 0.9261381\ttotal: 2.17s\tremaining: 56.4s\n",
            "37:\tlearn: 0.9257941\ttotal: 2.22s\tremaining: 56.3s\n",
            "38:\tlearn: 0.9255146\ttotal: 2.28s\tremaining: 56.1s\n",
            "39:\tlearn: 0.9252310\ttotal: 2.35s\tremaining: 56.3s\n",
            "40:\tlearn: 0.9249683\ttotal: 2.41s\tremaining: 56.5s\n",
            "41:\tlearn: 0.9246935\ttotal: 2.46s\tremaining: 56.1s\n",
            "42:\tlearn: 0.9245157\ttotal: 2.51s\tremaining: 55.9s\n",
            "43:\tlearn: 0.9242353\ttotal: 2.61s\tremaining: 56.7s\n",
            "44:\tlearn: 0.9239123\ttotal: 2.72s\tremaining: 57.7s\n",
            "45:\tlearn: 0.9236801\ttotal: 2.78s\tremaining: 57.6s\n",
            "46:\tlearn: 0.9234015\ttotal: 2.87s\tremaining: 58.1s\n",
            "47:\tlearn: 0.9231977\ttotal: 2.92s\tremaining: 58s\n",
            "48:\tlearn: 0.9228532\ttotal: 3s\tremaining: 58.3s\n",
            "49:\tlearn: 0.9225588\ttotal: 3.07s\tremaining: 58.4s\n",
            "50:\tlearn: 0.9223393\ttotal: 3.14s\tremaining: 58.4s\n",
            "51:\tlearn: 0.9222384\ttotal: 3.19s\tremaining: 58.1s\n",
            "52:\tlearn: 0.9220094\ttotal: 3.25s\tremaining: 58.1s\n",
            "53:\tlearn: 0.9218750\ttotal: 3.32s\tremaining: 58.2s\n",
            "54:\tlearn: 0.9216383\ttotal: 3.41s\tremaining: 58.7s\n",
            "55:\tlearn: 0.9213857\ttotal: 3.49s\tremaining: 58.8s\n",
            "56:\tlearn: 0.9212143\ttotal: 3.56s\tremaining: 58.8s\n",
            "57:\tlearn: 0.9209855\ttotal: 3.66s\tremaining: 59.4s\n",
            "58:\tlearn: 0.9207752\ttotal: 3.71s\tremaining: 59.2s\n",
            "59:\tlearn: 0.9204398\ttotal: 3.83s\tremaining: 60s\n",
            "60:\tlearn: 0.9202099\ttotal: 3.88s\tremaining: 59.7s\n",
            "61:\tlearn: 0.9200375\ttotal: 3.92s\tremaining: 59.3s\n",
            "62:\tlearn: 0.9199057\ttotal: 3.97s\tremaining: 59s\n",
            "63:\tlearn: 0.9196909\ttotal: 4.07s\tremaining: 59.5s\n",
            "64:\tlearn: 0.9194817\ttotal: 4.16s\tremaining: 59.8s\n",
            "65:\tlearn: 0.9193688\ttotal: 4.22s\tremaining: 59.7s\n",
            "66:\tlearn: 0.9189610\ttotal: 4.31s\tremaining: 60s\n",
            "67:\tlearn: 0.9187099\ttotal: 4.41s\tremaining: 1m\n",
            "68:\tlearn: 0.9186043\ttotal: 4.46s\tremaining: 1m\n",
            "69:\tlearn: 0.9184192\ttotal: 4.58s\tremaining: 1m\n",
            "70:\tlearn: 0.9183309\ttotal: 4.65s\tremaining: 1m\n",
            "71:\tlearn: 0.9181571\ttotal: 4.73s\tremaining: 1m\n",
            "72:\tlearn: 0.9178723\ttotal: 4.83s\tremaining: 1m 1s\n",
            "73:\tlearn: 0.9177797\ttotal: 4.92s\tremaining: 1m 1s\n",
            "74:\tlearn: 0.9176235\ttotal: 5.01s\tremaining: 1m 1s\n",
            "75:\tlearn: 0.9174231\ttotal: 5.09s\tremaining: 1m 1s\n",
            "76:\tlearn: 0.9172698\ttotal: 5.15s\tremaining: 1m 1s\n",
            "77:\tlearn: 0.9171768\ttotal: 5.22s\tremaining: 1m 1s\n",
            "78:\tlearn: 0.9169350\ttotal: 5.27s\tremaining: 1m 1s\n",
            "79:\tlearn: 0.9166923\ttotal: 5.37s\tremaining: 1m 1s\n",
            "80:\tlearn: 0.9165382\ttotal: 5.44s\tremaining: 1m 1s\n",
            "81:\tlearn: 0.9163689\ttotal: 5.54s\tremaining: 1m 1s\n",
            "82:\tlearn: 0.9162085\ttotal: 5.62s\tremaining: 1m 2s\n",
            "83:\tlearn: 0.9161152\ttotal: 5.69s\tremaining: 1m 2s\n",
            "84:\tlearn: 0.9157154\ttotal: 5.76s\tremaining: 1m 1s\n",
            "85:\tlearn: 0.9155668\ttotal: 5.81s\tremaining: 1m 1s\n",
            "86:\tlearn: 0.9153682\ttotal: 5.92s\tremaining: 1m 2s\n",
            "87:\tlearn: 0.9152720\ttotal: 6.01s\tremaining: 1m 2s\n",
            "88:\tlearn: 0.9150961\ttotal: 6.11s\tremaining: 1m 2s\n",
            "89:\tlearn: 0.9149894\ttotal: 6.17s\tremaining: 1m 2s\n",
            "90:\tlearn: 0.9148541\ttotal: 6.26s\tremaining: 1m 2s\n",
            "91:\tlearn: 0.9144955\ttotal: 6.33s\tremaining: 1m 2s\n",
            "92:\tlearn: 0.9143351\ttotal: 6.42s\tremaining: 1m 2s\n",
            "93:\tlearn: 0.9141761\ttotal: 6.5s\tremaining: 1m 2s\n",
            "94:\tlearn: 0.9141093\ttotal: 6.57s\tremaining: 1m 2s\n",
            "95:\tlearn: 0.9139782\ttotal: 6.64s\tremaining: 1m 2s\n",
            "96:\tlearn: 0.9138834\ttotal: 6.71s\tremaining: 1m 2s\n",
            "97:\tlearn: 0.9136269\ttotal: 6.79s\tremaining: 1m 2s\n",
            "98:\tlearn: 0.9134701\ttotal: 6.87s\tremaining: 1m 2s\n",
            "99:\tlearn: 0.9133726\ttotal: 6.94s\tremaining: 1m 2s\n",
            "100:\tlearn: 0.9132622\ttotal: 7.01s\tremaining: 1m 2s\n",
            "101:\tlearn: 0.9131225\ttotal: 7.11s\tremaining: 1m 2s\n",
            "102:\tlearn: 0.9129481\ttotal: 7.19s\tremaining: 1m 2s\n",
            "103:\tlearn: 0.9128083\ttotal: 7.3s\tremaining: 1m 2s\n",
            "104:\tlearn: 0.9126683\ttotal: 7.37s\tremaining: 1m 2s\n",
            "105:\tlearn: 0.9124281\ttotal: 7.42s\tremaining: 1m 2s\n",
            "106:\tlearn: 0.9122903\ttotal: 7.46s\tremaining: 1m 2s\n",
            "107:\tlearn: 0.9122126\ttotal: 7.53s\tremaining: 1m 2s\n",
            "108:\tlearn: 0.9121083\ttotal: 7.62s\tremaining: 1m 2s\n",
            "109:\tlearn: 0.9119724\ttotal: 7.73s\tremaining: 1m 2s\n",
            "110:\tlearn: 0.9118817\ttotal: 7.8s\tremaining: 1m 2s\n",
            "111:\tlearn: 0.9117716\ttotal: 7.89s\tremaining: 1m 2s\n",
            "112:\tlearn: 0.9116319\ttotal: 7.98s\tremaining: 1m 2s\n",
            "113:\tlearn: 0.9115049\ttotal: 8.02s\tremaining: 1m 2s\n",
            "114:\tlearn: 0.9114090\ttotal: 8.07s\tremaining: 1m 2s\n",
            "115:\tlearn: 0.9113202\ttotal: 8.13s\tremaining: 1m 1s\n",
            "116:\tlearn: 0.9112584\ttotal: 8.18s\tremaining: 1m 1s\n",
            "117:\tlearn: 0.9111679\ttotal: 8.24s\tremaining: 1m 1s\n",
            "118:\tlearn: 0.9110699\ttotal: 8.32s\tremaining: 1m 1s\n",
            "119:\tlearn: 0.9109249\ttotal: 8.4s\tremaining: 1m 1s\n",
            "120:\tlearn: 0.9108321\ttotal: 8.48s\tremaining: 1m 1s\n",
            "121:\tlearn: 0.9105354\ttotal: 8.55s\tremaining: 1m 1s\n",
            "122:\tlearn: 0.9103176\ttotal: 8.61s\tremaining: 1m 1s\n",
            "123:\tlearn: 0.9102726\ttotal: 8.66s\tremaining: 1m 1s\n",
            "124:\tlearn: 0.9101108\ttotal: 8.75s\tremaining: 1m 1s\n",
            "125:\tlearn: 0.9100617\ttotal: 8.81s\tremaining: 1m 1s\n",
            "126:\tlearn: 0.9099606\ttotal: 8.89s\tremaining: 1m 1s\n",
            "127:\tlearn: 0.9098782\ttotal: 8.93s\tremaining: 1m\n",
            "128:\tlearn: 0.9097916\ttotal: 8.99s\tremaining: 1m\n",
            "129:\tlearn: 0.9097606\ttotal: 9.05s\tremaining: 1m\n",
            "130:\tlearn: 0.9096977\ttotal: 9.1s\tremaining: 1m\n",
            "131:\tlearn: 0.9096162\ttotal: 9.17s\tremaining: 1m\n",
            "132:\tlearn: 0.9094930\ttotal: 9.25s\tremaining: 1m\n",
            "133:\tlearn: 0.9093826\ttotal: 9.34s\tremaining: 1m\n",
            "134:\tlearn: 0.9093508\ttotal: 9.4s\tremaining: 1m\n",
            "135:\tlearn: 0.9092395\ttotal: 9.47s\tremaining: 1m\n",
            "136:\tlearn: 0.9091420\ttotal: 9.56s\tremaining: 1m\n",
            "137:\tlearn: 0.9090382\ttotal: 9.67s\tremaining: 1m\n",
            "138:\tlearn: 0.9089703\ttotal: 9.73s\tremaining: 1m\n",
            "139:\tlearn: 0.9088012\ttotal: 9.84s\tremaining: 1m\n",
            "140:\tlearn: 0.9086949\ttotal: 9.94s\tremaining: 1m\n",
            "141:\tlearn: 0.9085030\ttotal: 10s\tremaining: 1m\n",
            "142:\tlearn: 0.9083666\ttotal: 10.1s\tremaining: 1m\n",
            "143:\tlearn: 0.9082370\ttotal: 10.1s\tremaining: 1m\n",
            "144:\tlearn: 0.9081261\ttotal: 10.2s\tremaining: 1m\n",
            "145:\tlearn: 0.9079958\ttotal: 10.3s\tremaining: 1m\n",
            "146:\tlearn: 0.9078775\ttotal: 10.4s\tremaining: 1m\n",
            "147:\tlearn: 0.9077584\ttotal: 10.5s\tremaining: 1m\n",
            "148:\tlearn: 0.9076610\ttotal: 10.6s\tremaining: 1m\n",
            "149:\tlearn: 0.9075536\ttotal: 10.7s\tremaining: 1m\n",
            "150:\tlearn: 0.9074994\ttotal: 10.8s\tremaining: 1m\n",
            "151:\tlearn: 0.9074255\ttotal: 10.9s\tremaining: 1m\n",
            "152:\tlearn: 0.9073511\ttotal: 10.9s\tremaining: 1m\n",
            "153:\tlearn: 0.9072519\ttotal: 11s\tremaining: 1m\n",
            "154:\tlearn: 0.9072007\ttotal: 11.1s\tremaining: 1m\n",
            "155:\tlearn: 0.9070820\ttotal: 11.2s\tremaining: 1m\n",
            "156:\tlearn: 0.9069557\ttotal: 11.3s\tremaining: 1m\n",
            "157:\tlearn: 0.9068563\ttotal: 11.3s\tremaining: 1m\n",
            "158:\tlearn: 0.9067653\ttotal: 11.4s\tremaining: 1m\n",
            "159:\tlearn: 0.9066885\ttotal: 11.5s\tremaining: 1m\n",
            "160:\tlearn: 0.9066072\ttotal: 11.6s\tremaining: 1m\n",
            "161:\tlearn: 0.9065383\ttotal: 11.6s\tremaining: 1m\n",
            "162:\tlearn: 0.9064494\ttotal: 11.7s\tremaining: 1m\n",
            "163:\tlearn: 0.9064058\ttotal: 11.8s\tremaining: 1m\n",
            "164:\tlearn: 0.9063166\ttotal: 11.9s\tremaining: 1m\n",
            "165:\tlearn: 0.9062423\ttotal: 12s\tremaining: 1m\n",
            "166:\tlearn: 0.9061424\ttotal: 12.1s\tremaining: 1m\n",
            "167:\tlearn: 0.9060597\ttotal: 12.1s\tremaining: 1m\n",
            "168:\tlearn: 0.9059907\ttotal: 12.2s\tremaining: 59.9s\n",
            "169:\tlearn: 0.9058204\ttotal: 12.3s\tremaining: 59.9s\n",
            "170:\tlearn: 0.9056176\ttotal: 12.4s\tremaining: 59.9s\n",
            "171:\tlearn: 0.9054208\ttotal: 12.4s\tremaining: 59.9s\n",
            "172:\tlearn: 0.9053059\ttotal: 12.5s\tremaining: 59.7s\n",
            "173:\tlearn: 0.9051177\ttotal: 12.6s\tremaining: 59.8s\n",
            "174:\tlearn: 0.9050773\ttotal: 12.6s\tremaining: 59.6s\n",
            "175:\tlearn: 0.9049832\ttotal: 12.7s\tremaining: 59.6s\n",
            "176:\tlearn: 0.9049205\ttotal: 12.8s\tremaining: 59.6s\n",
            "177:\tlearn: 0.9047731\ttotal: 12.9s\tremaining: 59.6s\n",
            "178:\tlearn: 0.9046880\ttotal: 13s\tremaining: 59.6s\n",
            "179:\tlearn: 0.9045017\ttotal: 13.1s\tremaining: 59.5s\n",
            "180:\tlearn: 0.9044556\ttotal: 13.2s\tremaining: 59.5s\n",
            "181:\tlearn: 0.9043981\ttotal: 13.2s\tremaining: 59.5s\n",
            "182:\tlearn: 0.9043584\ttotal: 13.3s\tremaining: 59.5s\n",
            "183:\tlearn: 0.9042701\ttotal: 13.4s\tremaining: 59.5s\n",
            "184:\tlearn: 0.9041733\ttotal: 13.5s\tremaining: 59.5s\n",
            "185:\tlearn: 0.9040763\ttotal: 13.6s\tremaining: 59.6s\n",
            "186:\tlearn: 0.9039780\ttotal: 13.7s\tremaining: 59.6s\n",
            "187:\tlearn: 0.9038914\ttotal: 13.8s\tremaining: 59.6s\n",
            "188:\tlearn: 0.9038289\ttotal: 13.9s\tremaining: 59.6s\n",
            "189:\tlearn: 0.9037548\ttotal: 13.9s\tremaining: 59.4s\n",
            "190:\tlearn: 0.9036890\ttotal: 14s\tremaining: 59.3s\n",
            "191:\tlearn: 0.9035425\ttotal: 14.1s\tremaining: 59.2s\n",
            "192:\tlearn: 0.9034389\ttotal: 14.1s\tremaining: 59s\n",
            "193:\tlearn: 0.9033830\ttotal: 14.2s\tremaining: 58.9s\n",
            "194:\tlearn: 0.9033276\ttotal: 14.3s\tremaining: 59s\n",
            "195:\tlearn: 0.9032475\ttotal: 14.4s\tremaining: 59.1s\n",
            "196:\tlearn: 0.9031933\ttotal: 14.5s\tremaining: 58.9s\n",
            "197:\tlearn: 0.9031449\ttotal: 14.5s\tremaining: 58.8s\n",
            "198:\tlearn: 0.9030389\ttotal: 14.6s\tremaining: 58.6s\n",
            "199:\tlearn: 0.9028540\ttotal: 14.7s\tremaining: 58.7s\n",
            "200:\tlearn: 0.9028171\ttotal: 14.7s\tremaining: 58.5s\n",
            "201:\tlearn: 0.9026442\ttotal: 14.8s\tremaining: 58.4s\n",
            "202:\tlearn: 0.9025446\ttotal: 14.8s\tremaining: 58.3s\n",
            "203:\tlearn: 0.9024573\ttotal: 14.9s\tremaining: 58.1s\n",
            "204:\tlearn: 0.9023770\ttotal: 15s\tremaining: 58.1s\n",
            "205:\tlearn: 0.9022972\ttotal: 15.1s\tremaining: 58.1s\n",
            "206:\tlearn: 0.9022189\ttotal: 15.2s\tremaining: 58.1s\n",
            "207:\tlearn: 0.9021746\ttotal: 15.2s\tremaining: 57.9s\n",
            "208:\tlearn: 0.9021243\ttotal: 15.3s\tremaining: 57.9s\n",
            "209:\tlearn: 0.9020365\ttotal: 15.4s\tremaining: 57.8s\n",
            "210:\tlearn: 0.9019646\ttotal: 15.4s\tremaining: 57.6s\n",
            "211:\tlearn: 0.9018944\ttotal: 15.5s\tremaining: 57.6s\n",
            "212:\tlearn: 0.9018301\ttotal: 15.6s\tremaining: 57.6s\n",
            "213:\tlearn: 0.9017759\ttotal: 15.7s\tremaining: 57.6s\n",
            "214:\tlearn: 0.9016207\ttotal: 15.8s\tremaining: 57.6s\n",
            "215:\tlearn: 0.9015603\ttotal: 15.9s\tremaining: 57.6s\n",
            "216:\tlearn: 0.9014987\ttotal: 16s\tremaining: 57.6s\n",
            "217:\tlearn: 0.9014532\ttotal: 16s\tremaining: 57.5s\n",
            "218:\tlearn: 0.9013299\ttotal: 16.1s\tremaining: 57.4s\n",
            "219:\tlearn: 0.9012573\ttotal: 16.1s\tremaining: 57.2s\n",
            "220:\tlearn: 0.9011668\ttotal: 16.2s\tremaining: 57.2s\n",
            "221:\tlearn: 0.9011316\ttotal: 16.3s\tremaining: 57.1s\n",
            "222:\tlearn: 0.9011035\ttotal: 16.4s\tremaining: 57s\n",
            "223:\tlearn: 0.9010721\ttotal: 16.4s\tremaining: 56.9s\n",
            "224:\tlearn: 0.9010124\ttotal: 16.5s\tremaining: 56.9s\n",
            "225:\tlearn: 0.9009644\ttotal: 16.6s\tremaining: 56.7s\n",
            "226:\tlearn: 0.9008334\ttotal: 16.6s\tremaining: 56.7s\n",
            "227:\tlearn: 0.9007989\ttotal: 16.7s\tremaining: 56.5s\n",
            "228:\tlearn: 0.9007682\ttotal: 16.8s\tremaining: 56.5s\n",
            "229:\tlearn: 0.9007052\ttotal: 16.9s\tremaining: 56.5s\n",
            "230:\tlearn: 0.9005875\ttotal: 16.9s\tremaining: 56.4s\n",
            "231:\tlearn: 0.9005585\ttotal: 17s\tremaining: 56.4s\n",
            "232:\tlearn: 0.9004855\ttotal: 17.1s\tremaining: 56.4s\n",
            "233:\tlearn: 0.9004272\ttotal: 17.2s\tremaining: 56.2s\n",
            "234:\tlearn: 0.9003712\ttotal: 17.3s\tremaining: 56.2s\n",
            "235:\tlearn: 0.9003040\ttotal: 17.3s\tremaining: 56.1s\n",
            "236:\tlearn: 0.9002820\ttotal: 17.4s\tremaining: 56.1s\n",
            "237:\tlearn: 0.9001771\ttotal: 17.5s\tremaining: 56s\n",
            "238:\tlearn: 0.9001157\ttotal: 17.6s\tremaining: 56s\n",
            "239:\tlearn: 0.9000556\ttotal: 17.7s\tremaining: 56s\n",
            "240:\tlearn: 0.9000172\ttotal: 17.8s\tremaining: 56s\n",
            "241:\tlearn: 0.8999541\ttotal: 17.8s\tremaining: 55.8s\n",
            "242:\tlearn: 0.8998926\ttotal: 17.9s\tremaining: 55.8s\n",
            "243:\tlearn: 0.8998178\ttotal: 18s\tremaining: 55.8s\n",
            "244:\tlearn: 0.8996936\ttotal: 18.1s\tremaining: 55.8s\n",
            "245:\tlearn: 0.8996357\ttotal: 18.2s\tremaining: 55.8s\n",
            "246:\tlearn: 0.8994836\ttotal: 18.3s\tremaining: 55.7s\n",
            "247:\tlearn: 0.8994566\ttotal: 18.3s\tremaining: 55.6s\n",
            "248:\tlearn: 0.8993891\ttotal: 18.4s\tremaining: 55.6s\n",
            "249:\tlearn: 0.8992379\ttotal: 18.5s\tremaining: 55.5s\n",
            "250:\tlearn: 0.8991668\ttotal: 18.6s\tremaining: 55.5s\n",
            "251:\tlearn: 0.8990579\ttotal: 18.7s\tremaining: 55.5s\n",
            "252:\tlearn: 0.8990193\ttotal: 18.8s\tremaining: 55.4s\n",
            "253:\tlearn: 0.8989843\ttotal: 18.8s\tremaining: 55.3s\n",
            "254:\tlearn: 0.8989571\ttotal: 18.9s\tremaining: 55.2s\n",
            "255:\tlearn: 0.8989050\ttotal: 19s\tremaining: 55.1s\n",
            "256:\tlearn: 0.8988596\ttotal: 19s\tremaining: 55s\n",
            "257:\tlearn: 0.8988030\ttotal: 19.1s\tremaining: 54.8s\n",
            "258:\tlearn: 0.8987331\ttotal: 19.2s\tremaining: 54.8s\n",
            "259:\tlearn: 0.8986863\ttotal: 19.3s\tremaining: 54.8s\n",
            "260:\tlearn: 0.8986348\ttotal: 19.3s\tremaining: 54.7s\n",
            "261:\tlearn: 0.8985128\ttotal: 19.4s\tremaining: 54.6s\n",
            "262:\tlearn: 0.8983729\ttotal: 19.5s\tremaining: 54.6s\n",
            "263:\tlearn: 0.8983127\ttotal: 19.6s\tremaining: 54.6s\n",
            "264:\tlearn: 0.8982487\ttotal: 19.7s\tremaining: 54.5s\n",
            "265:\tlearn: 0.8982329\ttotal: 19.7s\tremaining: 54.4s\n",
            "266:\tlearn: 0.8981740\ttotal: 19.8s\tremaining: 54.4s\n",
            "267:\tlearn: 0.8981313\ttotal: 19.9s\tremaining: 54.4s\n",
            "268:\tlearn: 0.8980951\ttotal: 20s\tremaining: 54.3s\n",
            "269:\tlearn: 0.8980526\ttotal: 20.1s\tremaining: 54.2s\n",
            "270:\tlearn: 0.8979611\ttotal: 20.1s\tremaining: 54.2s\n",
            "271:\tlearn: 0.8979310\ttotal: 20.2s\tremaining: 54.1s\n",
            "272:\tlearn: 0.8978627\ttotal: 20.3s\tremaining: 54s\n",
            "273:\tlearn: 0.8977947\ttotal: 20.4s\tremaining: 54.1s\n",
            "274:\tlearn: 0.8977349\ttotal: 20.5s\tremaining: 54s\n",
            "275:\tlearn: 0.8977121\ttotal: 20.5s\tremaining: 53.9s\n",
            "276:\tlearn: 0.8976133\ttotal: 20.6s\tremaining: 53.9s\n",
            "277:\tlearn: 0.8975531\ttotal: 20.7s\tremaining: 53.7s\n",
            "278:\tlearn: 0.8975055\ttotal: 20.8s\tremaining: 53.7s\n",
            "279:\tlearn: 0.8974753\ttotal: 20.8s\tremaining: 53.5s\n",
            "280:\tlearn: 0.8974252\ttotal: 20.9s\tremaining: 53.6s\n",
            "281:\tlearn: 0.8973191\ttotal: 21s\tremaining: 53.5s\n",
            "282:\tlearn: 0.8972685\ttotal: 21.1s\tremaining: 53.4s\n",
            "283:\tlearn: 0.8971705\ttotal: 21.2s\tremaining: 53.4s\n",
            "284:\tlearn: 0.8971456\ttotal: 21.3s\tremaining: 53.4s\n",
            "285:\tlearn: 0.8971001\ttotal: 21.4s\tremaining: 53.3s\n",
            "286:\tlearn: 0.8970798\ttotal: 21.4s\tremaining: 53.2s\n",
            "287:\tlearn: 0.8970362\ttotal: 21.5s\tremaining: 53.1s\n",
            "288:\tlearn: 0.8969938\ttotal: 21.6s\tremaining: 53.1s\n",
            "289:\tlearn: 0.8969547\ttotal: 21.7s\tremaining: 53s\n",
            "290:\tlearn: 0.8969277\ttotal: 21.7s\tremaining: 52.9s\n",
            "291:\tlearn: 0.8968812\ttotal: 21.8s\tremaining: 52.8s\n",
            "292:\tlearn: 0.8967907\ttotal: 21.9s\tremaining: 52.8s\n",
            "293:\tlearn: 0.8967229\ttotal: 22s\tremaining: 52.8s\n",
            "294:\tlearn: 0.8966927\ttotal: 22.1s\tremaining: 52.8s\n",
            "295:\tlearn: 0.8966461\ttotal: 22.2s\tremaining: 52.8s\n",
            "296:\tlearn: 0.8965909\ttotal: 22.3s\tremaining: 52.7s\n",
            "297:\tlearn: 0.8965438\ttotal: 22.4s\tremaining: 52.7s\n",
            "298:\tlearn: 0.8965094\ttotal: 22.5s\tremaining: 52.7s\n",
            "299:\tlearn: 0.8964782\ttotal: 22.6s\tremaining: 52.6s\n",
            "300:\tlearn: 0.8964288\ttotal: 22.6s\tremaining: 52.6s\n",
            "301:\tlearn: 0.8964134\ttotal: 22.7s\tremaining: 52.5s\n",
            "302:\tlearn: 0.8963902\ttotal: 22.8s\tremaining: 52.4s\n",
            "303:\tlearn: 0.8963481\ttotal: 22.9s\tremaining: 52.3s\n",
            "304:\tlearn: 0.8963178\ttotal: 22.9s\tremaining: 52.3s\n",
            "305:\tlearn: 0.8962458\ttotal: 23s\tremaining: 52.2s\n",
            "306:\tlearn: 0.8961936\ttotal: 23.1s\tremaining: 52.1s\n",
            "307:\tlearn: 0.8961671\ttotal: 23.2s\tremaining: 52s\n",
            "308:\tlearn: 0.8961344\ttotal: 23.2s\tremaining: 51.9s\n",
            "309:\tlearn: 0.8960944\ttotal: 23.3s\tremaining: 51.9s\n",
            "310:\tlearn: 0.8960449\ttotal: 23.4s\tremaining: 51.7s\n",
            "311:\tlearn: 0.8959897\ttotal: 23.4s\tremaining: 51.7s\n",
            "312:\tlearn: 0.8959586\ttotal: 23.5s\tremaining: 51.6s\n",
            "313:\tlearn: 0.8959257\ttotal: 23.6s\tremaining: 51.5s\n",
            "314:\tlearn: 0.8959044\ttotal: 23.6s\tremaining: 51.4s\n",
            "315:\tlearn: 0.8958604\ttotal: 23.7s\tremaining: 51.3s\n",
            "316:\tlearn: 0.8957782\ttotal: 23.8s\tremaining: 51.3s\n",
            "317:\tlearn: 0.8957420\ttotal: 23.9s\tremaining: 51.2s\n",
            "318:\tlearn: 0.8956947\ttotal: 23.9s\tremaining: 51.1s\n",
            "319:\tlearn: 0.8956603\ttotal: 24s\tremaining: 51s\n",
            "320:\tlearn: 0.8956464\ttotal: 24.1s\tremaining: 50.9s\n",
            "321:\tlearn: 0.8956006\ttotal: 24.2s\tremaining: 50.9s\n",
            "322:\tlearn: 0.8955698\ttotal: 24.2s\tremaining: 50.8s\n",
            "323:\tlearn: 0.8955493\ttotal: 24.3s\tremaining: 50.7s\n",
            "324:\tlearn: 0.8954995\ttotal: 24.4s\tremaining: 50.7s\n",
            "325:\tlearn: 0.8954325\ttotal: 24.5s\tremaining: 50.7s\n",
            "326:\tlearn: 0.8953406\ttotal: 24.6s\tremaining: 50.7s\n",
            "327:\tlearn: 0.8952880\ttotal: 24.7s\tremaining: 50.6s\n",
            "328:\tlearn: 0.8952773\ttotal: 24.8s\tremaining: 50.5s\n",
            "329:\tlearn: 0.8951535\ttotal: 24.9s\tremaining: 50.5s\n",
            "330:\tlearn: 0.8951089\ttotal: 24.9s\tremaining: 50.4s\n",
            "331:\tlearn: 0.8950675\ttotal: 25s\tremaining: 50.4s\n",
            "332:\tlearn: 0.8950510\ttotal: 25.1s\tremaining: 50.2s\n",
            "333:\tlearn: 0.8949606\ttotal: 25.1s\tremaining: 50.1s\n",
            "334:\tlearn: 0.8949231\ttotal: 25.2s\tremaining: 50.1s\n",
            "335:\tlearn: 0.8948837\ttotal: 25.3s\tremaining: 50s\n",
            "336:\tlearn: 0.8948599\ttotal: 25.4s\tremaining: 50s\n",
            "337:\tlearn: 0.8948227\ttotal: 25.5s\tremaining: 50s\n",
            "338:\tlearn: 0.8947420\ttotal: 25.6s\tremaining: 49.9s\n",
            "339:\tlearn: 0.8947089\ttotal: 25.6s\tremaining: 49.8s\n",
            "340:\tlearn: 0.8946641\ttotal: 25.7s\tremaining: 49.7s\n",
            "341:\tlearn: 0.8946434\ttotal: 25.8s\tremaining: 49.6s\n",
            "342:\tlearn: 0.8946001\ttotal: 25.8s\tremaining: 49.5s\n",
            "343:\tlearn: 0.8944922\ttotal: 26s\tremaining: 49.5s\n",
            "344:\tlearn: 0.8944556\ttotal: 26s\tremaining: 49.4s\n",
            "345:\tlearn: 0.8944139\ttotal: 26.1s\tremaining: 49.3s\n",
            "346:\tlearn: 0.8943251\ttotal: 26.2s\tremaining: 49.2s\n",
            "347:\tlearn: 0.8942720\ttotal: 26.2s\tremaining: 49.1s\n",
            "348:\tlearn: 0.8942149\ttotal: 26.3s\tremaining: 49s\n",
            "349:\tlearn: 0.8941971\ttotal: 26.4s\tremaining: 49s\n",
            "350:\tlearn: 0.8941754\ttotal: 26.4s\tremaining: 48.9s\n",
            "351:\tlearn: 0.8941611\ttotal: 26.5s\tremaining: 48.8s\n",
            "352:\tlearn: 0.8941049\ttotal: 26.6s\tremaining: 48.8s\n",
            "353:\tlearn: 0.8939956\ttotal: 26.7s\tremaining: 48.7s\n",
            "354:\tlearn: 0.8939440\ttotal: 26.8s\tremaining: 48.6s\n",
            "355:\tlearn: 0.8939288\ttotal: 26.8s\tremaining: 48.5s\n",
            "356:\tlearn: 0.8938784\ttotal: 26.9s\tremaining: 48.5s\n",
            "357:\tlearn: 0.8938365\ttotal: 27s\tremaining: 48.4s\n",
            "358:\tlearn: 0.8937928\ttotal: 27.1s\tremaining: 48.4s\n",
            "359:\tlearn: 0.8937062\ttotal: 27.2s\tremaining: 48.3s\n",
            "360:\tlearn: 0.8936890\ttotal: 27.3s\tremaining: 48.2s\n",
            "361:\tlearn: 0.8936133\ttotal: 27.3s\tremaining: 48.2s\n",
            "362:\tlearn: 0.8935761\ttotal: 27.4s\tremaining: 48.1s\n",
            "363:\tlearn: 0.8935468\ttotal: 27.5s\tremaining: 48s\n",
            "364:\tlearn: 0.8934322\ttotal: 27.6s\tremaining: 47.9s\n",
            "365:\tlearn: 0.8933924\ttotal: 27.6s\tremaining: 47.9s\n",
            "366:\tlearn: 0.8933661\ttotal: 27.7s\tremaining: 47.8s\n",
            "367:\tlearn: 0.8933216\ttotal: 27.8s\tremaining: 47.8s\n",
            "368:\tlearn: 0.8932481\ttotal: 27.9s\tremaining: 47.7s\n",
            "369:\tlearn: 0.8932287\ttotal: 28s\tremaining: 47.7s\n",
            "370:\tlearn: 0.8931846\ttotal: 28.1s\tremaining: 47.6s\n",
            "371:\tlearn: 0.8931580\ttotal: 28.2s\tremaining: 47.5s\n",
            "372:\tlearn: 0.8931183\ttotal: 28.2s\tremaining: 47.5s\n",
            "373:\tlearn: 0.8930774\ttotal: 28.3s\tremaining: 47.4s\n",
            "374:\tlearn: 0.8929601\ttotal: 28.4s\tremaining: 47.4s\n",
            "375:\tlearn: 0.8929430\ttotal: 28.5s\tremaining: 47.3s\n",
            "376:\tlearn: 0.8929176\ttotal: 28.5s\tremaining: 47.2s\n",
            "377:\tlearn: 0.8928921\ttotal: 28.6s\tremaining: 47.1s\n",
            "378:\tlearn: 0.8928613\ttotal: 28.7s\tremaining: 47s\n",
            "379:\tlearn: 0.8927815\ttotal: 28.8s\tremaining: 47s\n",
            "380:\tlearn: 0.8927430\ttotal: 28.9s\tremaining: 46.9s\n",
            "381:\tlearn: 0.8927187\ttotal: 28.9s\tremaining: 46.8s\n",
            "382:\tlearn: 0.8926649\ttotal: 29s\tremaining: 46.7s\n",
            "383:\tlearn: 0.8926436\ttotal: 29.1s\tremaining: 46.7s\n",
            "384:\tlearn: 0.8926005\ttotal: 29.2s\tremaining: 46.6s\n",
            "385:\tlearn: 0.8925180\ttotal: 29.2s\tremaining: 46.5s\n",
            "386:\tlearn: 0.8924248\ttotal: 29.3s\tremaining: 46.4s\n",
            "387:\tlearn: 0.8924042\ttotal: 29.4s\tremaining: 46.3s\n",
            "388:\tlearn: 0.8923702\ttotal: 29.4s\tremaining: 46.2s\n",
            "389:\tlearn: 0.8923298\ttotal: 29.5s\tremaining: 46.2s\n",
            "390:\tlearn: 0.8923139\ttotal: 29.6s\tremaining: 46.1s\n",
            "391:\tlearn: 0.8922865\ttotal: 29.6s\tremaining: 45.9s\n",
            "392:\tlearn: 0.8922514\ttotal: 29.7s\tremaining: 45.9s\n",
            "393:\tlearn: 0.8921862\ttotal: 29.8s\tremaining: 45.8s\n",
            "394:\tlearn: 0.8921475\ttotal: 29.9s\tremaining: 45.8s\n",
            "395:\tlearn: 0.8921055\ttotal: 30s\tremaining: 45.7s\n",
            "396:\tlearn: 0.8920766\ttotal: 30s\tremaining: 45.6s\n",
            "397:\tlearn: 0.8920569\ttotal: 30.1s\tremaining: 45.5s\n",
            "398:\tlearn: 0.8919760\ttotal: 30.2s\tremaining: 45.4s\n",
            "399:\tlearn: 0.8919346\ttotal: 30.2s\tremaining: 45.4s\n",
            "400:\tlearn: 0.8918668\ttotal: 30.3s\tremaining: 45.3s\n",
            "401:\tlearn: 0.8918418\ttotal: 30.4s\tremaining: 45.3s\n",
            "402:\tlearn: 0.8918098\ttotal: 30.5s\tremaining: 45.2s\n",
            "403:\tlearn: 0.8917928\ttotal: 30.6s\tremaining: 45.1s\n",
            "404:\tlearn: 0.8917747\ttotal: 30.6s\tremaining: 45s\n",
            "405:\tlearn: 0.8917439\ttotal: 30.7s\tremaining: 45s\n",
            "406:\tlearn: 0.8916631\ttotal: 30.8s\tremaining: 44.9s\n",
            "407:\tlearn: 0.8916444\ttotal: 30.9s\tremaining: 44.9s\n",
            "408:\tlearn: 0.8915935\ttotal: 31s\tremaining: 44.8s\n",
            "409:\tlearn: 0.8915593\ttotal: 31.1s\tremaining: 44.7s\n",
            "410:\tlearn: 0.8915288\ttotal: 31.1s\tremaining: 44.6s\n",
            "411:\tlearn: 0.8914843\ttotal: 31.2s\tremaining: 44.6s\n",
            "412:\tlearn: 0.8914505\ttotal: 31.3s\tremaining: 44.5s\n",
            "413:\tlearn: 0.8914279\ttotal: 31.4s\tremaining: 44.4s\n",
            "414:\tlearn: 0.8914009\ttotal: 31.5s\tremaining: 44.4s\n",
            "415:\tlearn: 0.8913738\ttotal: 31.5s\tremaining: 44.3s\n",
            "416:\tlearn: 0.8913426\ttotal: 31.6s\tremaining: 44.2s\n",
            "417:\tlearn: 0.8913081\ttotal: 31.7s\tremaining: 44.1s\n",
            "418:\tlearn: 0.8912753\ttotal: 31.8s\tremaining: 44.1s\n",
            "419:\tlearn: 0.8912027\ttotal: 31.9s\tremaining: 44s\n",
            "420:\tlearn: 0.8911852\ttotal: 32s\tremaining: 44s\n",
            "421:\tlearn: 0.8911142\ttotal: 32.1s\tremaining: 43.9s\n",
            "422:\tlearn: 0.8910789\ttotal: 32.1s\tremaining: 43.9s\n",
            "423:\tlearn: 0.8910394\ttotal: 32.2s\tremaining: 43.8s\n",
            "424:\tlearn: 0.8910194\ttotal: 32.3s\tremaining: 43.7s\n",
            "425:\tlearn: 0.8909595\ttotal: 32.4s\tremaining: 43.6s\n",
            "426:\tlearn: 0.8909152\ttotal: 32.4s\tremaining: 43.5s\n",
            "427:\tlearn: 0.8908845\ttotal: 32.6s\tremaining: 43.5s\n",
            "428:\tlearn: 0.8908616\ttotal: 32.6s\tremaining: 43.4s\n",
            "429:\tlearn: 0.8908273\ttotal: 32.7s\tremaining: 43.3s\n",
            "430:\tlearn: 0.8907923\ttotal: 32.7s\tremaining: 43.2s\n",
            "431:\tlearn: 0.8907725\ttotal: 32.8s\tremaining: 43.1s\n",
            "432:\tlearn: 0.8907491\ttotal: 32.9s\tremaining: 43.1s\n",
            "433:\tlearn: 0.8907339\ttotal: 33s\tremaining: 43s\n",
            "434:\tlearn: 0.8906887\ttotal: 33.1s\tremaining: 42.9s\n",
            "435:\tlearn: 0.8906606\ttotal: 33.1s\tremaining: 42.9s\n",
            "436:\tlearn: 0.8905938\ttotal: 33.2s\tremaining: 42.8s\n",
            "437:\tlearn: 0.8905691\ttotal: 33.3s\tremaining: 42.7s\n",
            "438:\tlearn: 0.8905152\ttotal: 33.4s\tremaining: 42.6s\n",
            "439:\tlearn: 0.8904901\ttotal: 33.4s\tremaining: 42.5s\n",
            "440:\tlearn: 0.8904552\ttotal: 33.5s\tremaining: 42.5s\n",
            "441:\tlearn: 0.8904246\ttotal: 33.6s\tremaining: 42.4s\n",
            "442:\tlearn: 0.8903707\ttotal: 33.6s\tremaining: 42.3s\n",
            "443:\tlearn: 0.8903550\ttotal: 33.7s\tremaining: 42.2s\n",
            "444:\tlearn: 0.8903229\ttotal: 33.8s\tremaining: 42.2s\n",
            "445:\tlearn: 0.8902866\ttotal: 33.8s\tremaining: 42s\n",
            "446:\tlearn: 0.8902566\ttotal: 33.9s\tremaining: 41.9s\n",
            "447:\tlearn: 0.8902418\ttotal: 34s\tremaining: 41.9s\n",
            "448:\tlearn: 0.8902066\ttotal: 34.1s\tremaining: 41.8s\n",
            "449:\tlearn: 0.8901845\ttotal: 34.1s\tremaining: 41.7s\n",
            "450:\tlearn: 0.8901515\ttotal: 34.2s\tremaining: 41.7s\n",
            "451:\tlearn: 0.8901305\ttotal: 34.3s\tremaining: 41.6s\n",
            "452:\tlearn: 0.8900774\ttotal: 34.4s\tremaining: 41.5s\n",
            "453:\tlearn: 0.8900280\ttotal: 34.5s\tremaining: 41.5s\n",
            "454:\tlearn: 0.8899768\ttotal: 34.6s\tremaining: 41.4s\n",
            "455:\tlearn: 0.8899375\ttotal: 34.6s\tremaining: 41.3s\n",
            "456:\tlearn: 0.8899134\ttotal: 34.7s\tremaining: 41.2s\n",
            "457:\tlearn: 0.8898766\ttotal: 34.8s\tremaining: 41.1s\n",
            "458:\tlearn: 0.8898588\ttotal: 34.8s\tremaining: 41.1s\n",
            "459:\tlearn: 0.8898124\ttotal: 34.9s\tremaining: 41s\n",
            "460:\tlearn: 0.8898008\ttotal: 35s\tremaining: 40.9s\n",
            "461:\tlearn: 0.8897488\ttotal: 35.1s\tremaining: 40.9s\n",
            "462:\tlearn: 0.8897032\ttotal: 35.2s\tremaining: 40.8s\n",
            "463:\tlearn: 0.8896774\ttotal: 35.3s\tremaining: 40.8s\n",
            "464:\tlearn: 0.8896508\ttotal: 35.4s\tremaining: 40.8s\n",
            "465:\tlearn: 0.8896277\ttotal: 35.5s\tremaining: 40.7s\n",
            "466:\tlearn: 0.8896033\ttotal: 35.6s\tremaining: 40.7s\n",
            "467:\tlearn: 0.8895748\ttotal: 35.7s\tremaining: 40.6s\n",
            "468:\tlearn: 0.8895523\ttotal: 35.8s\tremaining: 40.5s\n",
            "469:\tlearn: 0.8895220\ttotal: 35.9s\tremaining: 40.5s\n",
            "470:\tlearn: 0.8895000\ttotal: 36s\tremaining: 40.4s\n",
            "471:\tlearn: 0.8894273\ttotal: 36.1s\tremaining: 40.4s\n",
            "472:\tlearn: 0.8894021\ttotal: 36.1s\tremaining: 40.3s\n",
            "473:\tlearn: 0.8893631\ttotal: 36.2s\tremaining: 40.2s\n",
            "474:\tlearn: 0.8893442\ttotal: 36.3s\tremaining: 40.1s\n",
            "475:\tlearn: 0.8892736\ttotal: 36.4s\tremaining: 40.1s\n",
            "476:\tlearn: 0.8892494\ttotal: 36.5s\tremaining: 40s\n",
            "477:\tlearn: 0.8892111\ttotal: 36.6s\tremaining: 39.9s\n",
            "478:\tlearn: 0.8891924\ttotal: 36.6s\tremaining: 39.8s\n",
            "479:\tlearn: 0.8891540\ttotal: 36.7s\tremaining: 39.8s\n",
            "480:\tlearn: 0.8891242\ttotal: 36.8s\tremaining: 39.7s\n",
            "481:\tlearn: 0.8890951\ttotal: 36.9s\tremaining: 39.6s\n",
            "482:\tlearn: 0.8890579\ttotal: 36.9s\tremaining: 39.5s\n",
            "483:\tlearn: 0.8890459\ttotal: 37s\tremaining: 39.5s\n",
            "484:\tlearn: 0.8889838\ttotal: 37.1s\tremaining: 39.4s\n",
            "485:\tlearn: 0.8889637\ttotal: 37.2s\tremaining: 39.3s\n",
            "486:\tlearn: 0.8889403\ttotal: 37.3s\tremaining: 39.3s\n",
            "487:\tlearn: 0.8889088\ttotal: 37.4s\tremaining: 39.2s\n",
            "488:\tlearn: 0.8888898\ttotal: 37.4s\tremaining: 39.1s\n",
            "489:\tlearn: 0.8888428\ttotal: 37.5s\tremaining: 39.1s\n",
            "490:\tlearn: 0.8887877\ttotal: 37.6s\tremaining: 39s\n",
            "491:\tlearn: 0.8887629\ttotal: 37.7s\tremaining: 39s\n",
            "492:\tlearn: 0.8887384\ttotal: 37.8s\tremaining: 38.9s\n",
            "493:\tlearn: 0.8886663\ttotal: 37.9s\tremaining: 38.8s\n",
            "494:\tlearn: 0.8886349\ttotal: 38s\tremaining: 38.8s\n",
            "495:\tlearn: 0.8886071\ttotal: 38.1s\tremaining: 38.7s\n",
            "496:\tlearn: 0.8885900\ttotal: 38.2s\tremaining: 38.7s\n",
            "497:\tlearn: 0.8885683\ttotal: 38.3s\tremaining: 38.6s\n",
            "498:\tlearn: 0.8885387\ttotal: 38.3s\tremaining: 38.5s\n",
            "499:\tlearn: 0.8885065\ttotal: 38.4s\tremaining: 38.4s\n",
            "500:\tlearn: 0.8884771\ttotal: 38.5s\tremaining: 38.3s\n",
            "501:\tlearn: 0.8884428\ttotal: 38.6s\tremaining: 38.3s\n",
            "502:\tlearn: 0.8884132\ttotal: 38.7s\tremaining: 38.2s\n",
            "503:\tlearn: 0.8883970\ttotal: 38.7s\tremaining: 38.1s\n",
            "504:\tlearn: 0.8883795\ttotal: 38.8s\tremaining: 38s\n",
            "505:\tlearn: 0.8883528\ttotal: 38.9s\tremaining: 38s\n",
            "506:\tlearn: 0.8883229\ttotal: 39s\tremaining: 37.9s\n",
            "507:\tlearn: 0.8883066\ttotal: 39s\tremaining: 37.8s\n",
            "508:\tlearn: 0.8882772\ttotal: 39.1s\tremaining: 37.7s\n",
            "509:\tlearn: 0.8882155\ttotal: 39.2s\tremaining: 37.7s\n",
            "510:\tlearn: 0.8881976\ttotal: 39.3s\tremaining: 37.6s\n",
            "511:\tlearn: 0.8881806\ttotal: 39.4s\tremaining: 37.5s\n",
            "512:\tlearn: 0.8881402\ttotal: 39.4s\tremaining: 37.4s\n",
            "513:\tlearn: 0.8881346\ttotal: 39.5s\tremaining: 37.4s\n",
            "514:\tlearn: 0.8881116\ttotal: 39.6s\tremaining: 37.3s\n",
            "515:\tlearn: 0.8880759\ttotal: 39.7s\tremaining: 37.2s\n",
            "516:\tlearn: 0.8880679\ttotal: 39.8s\tremaining: 37.2s\n",
            "517:\tlearn: 0.8880484\ttotal: 39.9s\tremaining: 37.1s\n",
            "518:\tlearn: 0.8880373\ttotal: 39.9s\tremaining: 37s\n",
            "519:\tlearn: 0.8880083\ttotal: 40s\tremaining: 36.9s\n",
            "520:\tlearn: 0.8879898\ttotal: 40.1s\tremaining: 36.9s\n",
            "521:\tlearn: 0.8879666\ttotal: 40.2s\tremaining: 36.8s\n",
            "522:\tlearn: 0.8879482\ttotal: 40.2s\tremaining: 36.7s\n",
            "523:\tlearn: 0.8879222\ttotal: 40.3s\tremaining: 36.6s\n",
            "524:\tlearn: 0.8878880\ttotal: 40.4s\tremaining: 36.6s\n",
            "525:\tlearn: 0.8878411\ttotal: 40.5s\tremaining: 36.5s\n",
            "526:\tlearn: 0.8877918\ttotal: 40.6s\tremaining: 36.4s\n",
            "527:\tlearn: 0.8877823\ttotal: 40.7s\tremaining: 36.4s\n",
            "528:\tlearn: 0.8877524\ttotal: 40.8s\tremaining: 36.3s\n",
            "529:\tlearn: 0.8877247\ttotal: 40.8s\tremaining: 36.2s\n",
            "530:\tlearn: 0.8877048\ttotal: 40.9s\tremaining: 36.2s\n",
            "531:\tlearn: 0.8876785\ttotal: 41s\tremaining: 36.1s\n",
            "532:\tlearn: 0.8876206\ttotal: 41.1s\tremaining: 36s\n",
            "533:\tlearn: 0.8875959\ttotal: 41.2s\tremaining: 35.9s\n",
            "534:\tlearn: 0.8875848\ttotal: 41.2s\tremaining: 35.8s\n",
            "535:\tlearn: 0.8875643\ttotal: 41.3s\tremaining: 35.7s\n",
            "536:\tlearn: 0.8875473\ttotal: 41.4s\tremaining: 35.7s\n",
            "537:\tlearn: 0.8875254\ttotal: 41.4s\tremaining: 35.6s\n",
            "538:\tlearn: 0.8875123\ttotal: 41.5s\tremaining: 35.5s\n",
            "539:\tlearn: 0.8874903\ttotal: 41.6s\tremaining: 35.4s\n",
            "540:\tlearn: 0.8874485\ttotal: 41.7s\tremaining: 35.3s\n",
            "541:\tlearn: 0.8874091\ttotal: 41.8s\tremaining: 35.3s\n",
            "542:\tlearn: 0.8873922\ttotal: 41.9s\tremaining: 35.2s\n",
            "543:\tlearn: 0.8873173\ttotal: 42s\tremaining: 35.2s\n",
            "544:\tlearn: 0.8872839\ttotal: 42.1s\tremaining: 35.1s\n",
            "545:\tlearn: 0.8872319\ttotal: 42.1s\tremaining: 35s\n",
            "546:\tlearn: 0.8871941\ttotal: 42.2s\tremaining: 35s\n",
            "547:\tlearn: 0.8871550\ttotal: 42.3s\tremaining: 34.9s\n",
            "548:\tlearn: 0.8871252\ttotal: 42.4s\tremaining: 34.8s\n",
            "549:\tlearn: 0.8870866\ttotal: 42.4s\tremaining: 34.7s\n",
            "550:\tlearn: 0.8870406\ttotal: 42.5s\tremaining: 34.7s\n",
            "551:\tlearn: 0.8870145\ttotal: 42.7s\tremaining: 34.6s\n",
            "552:\tlearn: 0.8869902\ttotal: 42.7s\tremaining: 34.5s\n",
            "553:\tlearn: 0.8869271\ttotal: 42.8s\tremaining: 34.5s\n",
            "554:\tlearn: 0.8869132\ttotal: 42.9s\tremaining: 34.4s\n",
            "555:\tlearn: 0.8868868\ttotal: 42.9s\tremaining: 34.3s\n",
            "556:\tlearn: 0.8868628\ttotal: 43s\tremaining: 34.2s\n",
            "557:\tlearn: 0.8867523\ttotal: 43.1s\tremaining: 34.1s\n",
            "558:\tlearn: 0.8867211\ttotal: 43.2s\tremaining: 34s\n",
            "559:\tlearn: 0.8866991\ttotal: 43.2s\tremaining: 33.9s\n",
            "560:\tlearn: 0.8866666\ttotal: 43.3s\tremaining: 33.9s\n",
            "561:\tlearn: 0.8866463\ttotal: 43.4s\tremaining: 33.8s\n",
            "562:\tlearn: 0.8865897\ttotal: 43.5s\tremaining: 33.7s\n",
            "563:\tlearn: 0.8865507\ttotal: 43.5s\tremaining: 33.7s\n",
            "564:\tlearn: 0.8865240\ttotal: 43.6s\tremaining: 33.6s\n",
            "565:\tlearn: 0.8865017\ttotal: 43.7s\tremaining: 33.5s\n",
            "566:\tlearn: 0.8864788\ttotal: 43.8s\tremaining: 33.5s\n",
            "567:\tlearn: 0.8864418\ttotal: 43.9s\tremaining: 33.4s\n",
            "568:\tlearn: 0.8864208\ttotal: 44s\tremaining: 33.3s\n",
            "569:\tlearn: 0.8863943\ttotal: 44.1s\tremaining: 33.2s\n",
            "570:\tlearn: 0.8863655\ttotal: 44.1s\tremaining: 33.2s\n",
            "571:\tlearn: 0.8863448\ttotal: 44.2s\tremaining: 33.1s\n",
            "572:\tlearn: 0.8863171\ttotal: 44.3s\tremaining: 33s\n",
            "573:\tlearn: 0.8862981\ttotal: 44.4s\tremaining: 32.9s\n",
            "574:\tlearn: 0.8862556\ttotal: 44.4s\tremaining: 32.8s\n",
            "575:\tlearn: 0.8862249\ttotal: 44.5s\tremaining: 32.8s\n",
            "576:\tlearn: 0.8861988\ttotal: 44.6s\tremaining: 32.7s\n",
            "577:\tlearn: 0.8861719\ttotal: 44.7s\tremaining: 32.6s\n",
            "578:\tlearn: 0.8861493\ttotal: 44.8s\tremaining: 32.6s\n",
            "579:\tlearn: 0.8861304\ttotal: 44.9s\tremaining: 32.5s\n",
            "580:\tlearn: 0.8861221\ttotal: 44.9s\tremaining: 32.4s\n",
            "581:\tlearn: 0.8861001\ttotal: 45s\tremaining: 32.3s\n",
            "582:\tlearn: 0.8860591\ttotal: 45.2s\tremaining: 32.3s\n",
            "583:\tlearn: 0.8860185\ttotal: 45.2s\tremaining: 32.2s\n",
            "584:\tlearn: 0.8859994\ttotal: 45.3s\tremaining: 32.1s\n",
            "585:\tlearn: 0.8859693\ttotal: 45.4s\tremaining: 32.1s\n",
            "586:\tlearn: 0.8859366\ttotal: 45.5s\tremaining: 32s\n",
            "587:\tlearn: 0.8859204\ttotal: 45.5s\tremaining: 31.9s\n",
            "588:\tlearn: 0.8858684\ttotal: 45.6s\tremaining: 31.8s\n",
            "589:\tlearn: 0.8858329\ttotal: 45.7s\tremaining: 31.8s\n",
            "590:\tlearn: 0.8858191\ttotal: 45.7s\tremaining: 31.7s\n",
            "591:\tlearn: 0.8858009\ttotal: 45.9s\tremaining: 31.6s\n",
            "592:\tlearn: 0.8857733\ttotal: 45.9s\tremaining: 31.5s\n",
            "593:\tlearn: 0.8857418\ttotal: 46s\tremaining: 31.5s\n",
            "594:\tlearn: 0.8857112\ttotal: 46.2s\tremaining: 31.4s\n",
            "595:\tlearn: 0.8856667\ttotal: 46.3s\tremaining: 31.4s\n",
            "596:\tlearn: 0.8856460\ttotal: 46.3s\tremaining: 31.3s\n",
            "597:\tlearn: 0.8856200\ttotal: 46.4s\tremaining: 31.2s\n",
            "598:\tlearn: 0.8856043\ttotal: 46.5s\tremaining: 31.1s\n",
            "599:\tlearn: 0.8855625\ttotal: 46.5s\tremaining: 31s\n",
            "600:\tlearn: 0.8855475\ttotal: 46.6s\tremaining: 31s\n",
            "601:\tlearn: 0.8855171\ttotal: 46.7s\tremaining: 30.9s\n",
            "602:\tlearn: 0.8854627\ttotal: 46.8s\tremaining: 30.8s\n",
            "603:\tlearn: 0.8854481\ttotal: 46.9s\tremaining: 30.7s\n",
            "604:\tlearn: 0.8854272\ttotal: 47s\tremaining: 30.7s\n",
            "605:\tlearn: 0.8853949\ttotal: 47.1s\tremaining: 30.6s\n",
            "606:\tlearn: 0.8853693\ttotal: 47.2s\tremaining: 30.6s\n",
            "607:\tlearn: 0.8853234\ttotal: 47.3s\tremaining: 30.5s\n",
            "608:\tlearn: 0.8853052\ttotal: 47.3s\tremaining: 30.4s\n",
            "609:\tlearn: 0.8852680\ttotal: 47.4s\tremaining: 30.3s\n",
            "610:\tlearn: 0.8852438\ttotal: 47.5s\tremaining: 30.3s\n",
            "611:\tlearn: 0.8852245\ttotal: 47.6s\tremaining: 30.2s\n",
            "612:\tlearn: 0.8851792\ttotal: 47.7s\tremaining: 30.1s\n",
            "613:\tlearn: 0.8851528\ttotal: 47.7s\tremaining: 30s\n",
            "614:\tlearn: 0.8851239\ttotal: 47.8s\tremaining: 29.9s\n",
            "615:\tlearn: 0.8851122\ttotal: 47.9s\tremaining: 29.8s\n",
            "616:\tlearn: 0.8850923\ttotal: 47.9s\tremaining: 29.8s\n",
            "617:\tlearn: 0.8850829\ttotal: 48s\tremaining: 29.7s\n",
            "618:\tlearn: 0.8850634\ttotal: 48.1s\tremaining: 29.6s\n",
            "619:\tlearn: 0.8850397\ttotal: 48.2s\tremaining: 29.5s\n",
            "620:\tlearn: 0.8849995\ttotal: 48.3s\tremaining: 29.5s\n",
            "621:\tlearn: 0.8849841\ttotal: 48.3s\tremaining: 29.4s\n",
            "622:\tlearn: 0.8849666\ttotal: 48.4s\tremaining: 29.3s\n",
            "623:\tlearn: 0.8849514\ttotal: 48.5s\tremaining: 29.2s\n",
            "624:\tlearn: 0.8849338\ttotal: 48.6s\tremaining: 29.1s\n",
            "625:\tlearn: 0.8849041\ttotal: 48.7s\tremaining: 29.1s\n",
            "626:\tlearn: 0.8848673\ttotal: 48.7s\tremaining: 29s\n",
            "627:\tlearn: 0.8848559\ttotal: 48.8s\tremaining: 28.9s\n",
            "628:\tlearn: 0.8848284\ttotal: 48.9s\tremaining: 28.9s\n",
            "629:\tlearn: 0.8848121\ttotal: 49s\tremaining: 28.8s\n",
            "630:\tlearn: 0.8847875\ttotal: 49.1s\tremaining: 28.7s\n",
            "631:\tlearn: 0.8847704\ttotal: 49.2s\tremaining: 28.6s\n",
            "632:\tlearn: 0.8847360\ttotal: 49.3s\tremaining: 28.6s\n",
            "633:\tlearn: 0.8847168\ttotal: 49.4s\tremaining: 28.5s\n",
            "634:\tlearn: 0.8846835\ttotal: 49.4s\tremaining: 28.4s\n",
            "635:\tlearn: 0.8846710\ttotal: 49.5s\tremaining: 28.3s\n",
            "636:\tlearn: 0.8846131\ttotal: 49.6s\tremaining: 28.3s\n",
            "637:\tlearn: 0.8845946\ttotal: 49.7s\tremaining: 28.2s\n",
            "638:\tlearn: 0.8845682\ttotal: 49.8s\tremaining: 28.1s\n",
            "639:\tlearn: 0.8845370\ttotal: 49.9s\tremaining: 28s\n",
            "640:\tlearn: 0.8845102\ttotal: 49.9s\tremaining: 28s\n",
            "641:\tlearn: 0.8844628\ttotal: 50s\tremaining: 27.9s\n",
            "642:\tlearn: 0.8844443\ttotal: 50.1s\tremaining: 27.8s\n",
            "643:\tlearn: 0.8844301\ttotal: 50.2s\tremaining: 27.8s\n",
            "644:\tlearn: 0.8844157\ttotal: 50.3s\tremaining: 27.7s\n",
            "645:\tlearn: 0.8843612\ttotal: 50.4s\tremaining: 27.6s\n",
            "646:\tlearn: 0.8843464\ttotal: 50.4s\tremaining: 27.5s\n",
            "647:\tlearn: 0.8843232\ttotal: 50.5s\tremaining: 27.5s\n",
            "648:\tlearn: 0.8843051\ttotal: 50.6s\tremaining: 27.4s\n",
            "649:\tlearn: 0.8842683\ttotal: 50.7s\tremaining: 27.3s\n",
            "650:\tlearn: 0.8841832\ttotal: 50.8s\tremaining: 27.2s\n",
            "651:\tlearn: 0.8841638\ttotal: 50.9s\tremaining: 27.2s\n",
            "652:\tlearn: 0.8841522\ttotal: 51s\tremaining: 27.1s\n",
            "653:\tlearn: 0.8841462\ttotal: 51s\tremaining: 27s\n",
            "654:\tlearn: 0.8841270\ttotal: 51.1s\tremaining: 26.9s\n",
            "655:\tlearn: 0.8841011\ttotal: 51.2s\tremaining: 26.9s\n",
            "656:\tlearn: 0.8840791\ttotal: 51.3s\tremaining: 26.8s\n",
            "657:\tlearn: 0.8840715\ttotal: 51.4s\tremaining: 26.7s\n",
            "658:\tlearn: 0.8840221\ttotal: 51.5s\tremaining: 26.6s\n",
            "659:\tlearn: 0.8840019\ttotal: 51.6s\tremaining: 26.6s\n",
            "660:\tlearn: 0.8839760\ttotal: 51.7s\tremaining: 26.5s\n",
            "661:\tlearn: 0.8839536\ttotal: 51.8s\tremaining: 26.4s\n",
            "662:\tlearn: 0.8839314\ttotal: 51.9s\tremaining: 26.4s\n",
            "663:\tlearn: 0.8838891\ttotal: 52s\tremaining: 26.3s\n",
            "664:\tlearn: 0.8838736\ttotal: 52.1s\tremaining: 26.2s\n",
            "665:\tlearn: 0.8838635\ttotal: 52.1s\tremaining: 26.2s\n",
            "666:\tlearn: 0.8838471\ttotal: 52.3s\tremaining: 26.1s\n",
            "667:\tlearn: 0.8837966\ttotal: 52.3s\tremaining: 26s\n",
            "668:\tlearn: 0.8837819\ttotal: 52.4s\tremaining: 25.9s\n",
            "669:\tlearn: 0.8837680\ttotal: 52.5s\tremaining: 25.9s\n",
            "670:\tlearn: 0.8837481\ttotal: 52.6s\tremaining: 25.8s\n",
            "671:\tlearn: 0.8837362\ttotal: 52.7s\tremaining: 25.7s\n",
            "672:\tlearn: 0.8837060\ttotal: 52.8s\tremaining: 25.6s\n",
            "673:\tlearn: 0.8836917\ttotal: 52.9s\tremaining: 25.6s\n",
            "674:\tlearn: 0.8836741\ttotal: 52.9s\tremaining: 25.5s\n",
            "675:\tlearn: 0.8836540\ttotal: 53s\tremaining: 25.4s\n",
            "676:\tlearn: 0.8836119\ttotal: 53.1s\tremaining: 25.3s\n",
            "677:\tlearn: 0.8835917\ttotal: 53.1s\tremaining: 25.2s\n",
            "678:\tlearn: 0.8835756\ttotal: 53.2s\tremaining: 25.1s\n",
            "679:\tlearn: 0.8835450\ttotal: 53.3s\tremaining: 25.1s\n",
            "680:\tlearn: 0.8835198\ttotal: 53.4s\tremaining: 25s\n",
            "681:\tlearn: 0.8834641\ttotal: 53.5s\tremaining: 24.9s\n",
            "682:\tlearn: 0.8834192\ttotal: 53.5s\tremaining: 24.9s\n",
            "683:\tlearn: 0.8834045\ttotal: 53.6s\tremaining: 24.8s\n",
            "684:\tlearn: 0.8833994\ttotal: 53.7s\tremaining: 24.7s\n",
            "685:\tlearn: 0.8833387\ttotal: 53.8s\tremaining: 24.6s\n",
            "686:\tlearn: 0.8833180\ttotal: 53.8s\tremaining: 24.5s\n",
            "687:\tlearn: 0.8832744\ttotal: 53.9s\tremaining: 24.4s\n",
            "688:\tlearn: 0.8832637\ttotal: 53.9s\tremaining: 24.3s\n",
            "689:\tlearn: 0.8832355\ttotal: 54s\tremaining: 24.3s\n",
            "690:\tlearn: 0.8831777\ttotal: 54.1s\tremaining: 24.2s\n",
            "691:\tlearn: 0.8831671\ttotal: 54.2s\tremaining: 24.1s\n",
            "692:\tlearn: 0.8831396\ttotal: 54.3s\tremaining: 24.1s\n",
            "693:\tlearn: 0.8831236\ttotal: 54.4s\tremaining: 24s\n",
            "694:\tlearn: 0.8831099\ttotal: 54.5s\tremaining: 23.9s\n",
            "695:\tlearn: 0.8830752\ttotal: 54.6s\tremaining: 23.8s\n",
            "696:\tlearn: 0.8830550\ttotal: 54.7s\tremaining: 23.8s\n",
            "697:\tlearn: 0.8830412\ttotal: 54.8s\tremaining: 23.7s\n",
            "698:\tlearn: 0.8830175\ttotal: 54.9s\tremaining: 23.6s\n",
            "699:\tlearn: 0.8829887\ttotal: 54.9s\tremaining: 23.5s\n",
            "700:\tlearn: 0.8829631\ttotal: 55s\tremaining: 23.5s\n",
            "701:\tlearn: 0.8829405\ttotal: 55.1s\tremaining: 23.4s\n",
            "702:\tlearn: 0.8829161\ttotal: 55.2s\tremaining: 23.3s\n",
            "703:\tlearn: 0.8828936\ttotal: 55.3s\tremaining: 23.2s\n",
            "704:\tlearn: 0.8828606\ttotal: 55.4s\tremaining: 23.2s\n",
            "705:\tlearn: 0.8828163\ttotal: 55.4s\tremaining: 23.1s\n",
            "706:\tlearn: 0.8827889\ttotal: 55.5s\tremaining: 23s\n",
            "707:\tlearn: 0.8827754\ttotal: 55.6s\tremaining: 22.9s\n",
            "708:\tlearn: 0.8827508\ttotal: 55.7s\tremaining: 22.9s\n",
            "709:\tlearn: 0.8827015\ttotal: 55.8s\tremaining: 22.8s\n",
            "710:\tlearn: 0.8826852\ttotal: 55.9s\tremaining: 22.7s\n",
            "711:\tlearn: 0.8826623\ttotal: 56s\tremaining: 22.6s\n",
            "712:\tlearn: 0.8826503\ttotal: 56.1s\tremaining: 22.6s\n",
            "713:\tlearn: 0.8826345\ttotal: 56.1s\tremaining: 22.5s\n",
            "714:\tlearn: 0.8826012\ttotal: 56.2s\tremaining: 22.4s\n",
            "715:\tlearn: 0.8825812\ttotal: 56.3s\tremaining: 22.3s\n",
            "716:\tlearn: 0.8825711\ttotal: 56.4s\tremaining: 22.3s\n",
            "717:\tlearn: 0.8825463\ttotal: 56.5s\tremaining: 22.2s\n",
            "718:\tlearn: 0.8825233\ttotal: 56.6s\tremaining: 22.1s\n",
            "719:\tlearn: 0.8824974\ttotal: 56.7s\tremaining: 22s\n",
            "720:\tlearn: 0.8824700\ttotal: 56.7s\tremaining: 22s\n",
            "721:\tlearn: 0.8824419\ttotal: 56.8s\tremaining: 21.9s\n",
            "722:\tlearn: 0.8823772\ttotal: 56.9s\tremaining: 21.8s\n",
            "723:\tlearn: 0.8823599\ttotal: 57s\tremaining: 21.7s\n",
            "724:\tlearn: 0.8823434\ttotal: 57.1s\tremaining: 21.6s\n",
            "725:\tlearn: 0.8823123\ttotal: 57.1s\tremaining: 21.6s\n",
            "726:\tlearn: 0.8822901\ttotal: 57.2s\tremaining: 21.5s\n",
            "727:\tlearn: 0.8822745\ttotal: 57.3s\tremaining: 21.4s\n",
            "728:\tlearn: 0.8822444\ttotal: 57.4s\tremaining: 21.3s\n",
            "729:\tlearn: 0.8822302\ttotal: 57.5s\tremaining: 21.3s\n",
            "730:\tlearn: 0.8821877\ttotal: 57.6s\tremaining: 21.2s\n",
            "731:\tlearn: 0.8821670\ttotal: 57.7s\tremaining: 21.1s\n",
            "732:\tlearn: 0.8821498\ttotal: 57.7s\tremaining: 21s\n",
            "733:\tlearn: 0.8821191\ttotal: 57.8s\tremaining: 20.9s\n",
            "734:\tlearn: 0.8821005\ttotal: 57.9s\tremaining: 20.9s\n",
            "735:\tlearn: 0.8820867\ttotal: 58s\tremaining: 20.8s\n",
            "736:\tlearn: 0.8820243\ttotal: 58s\tremaining: 20.7s\n",
            "737:\tlearn: 0.8820085\ttotal: 58.1s\tremaining: 20.6s\n",
            "738:\tlearn: 0.8819719\ttotal: 58.2s\tremaining: 20.6s\n",
            "739:\tlearn: 0.8819608\ttotal: 58.3s\tremaining: 20.5s\n",
            "740:\tlearn: 0.8819368\ttotal: 58.4s\tremaining: 20.4s\n",
            "741:\tlearn: 0.8819256\ttotal: 58.4s\tremaining: 20.3s\n",
            "742:\tlearn: 0.8819068\ttotal: 58.5s\tremaining: 20.2s\n",
            "743:\tlearn: 0.8818704\ttotal: 58.6s\tremaining: 20.2s\n",
            "744:\tlearn: 0.8818524\ttotal: 58.6s\tremaining: 20.1s\n",
            "745:\tlearn: 0.8818417\ttotal: 58.7s\tremaining: 20s\n",
            "746:\tlearn: 0.8818305\ttotal: 58.8s\tremaining: 19.9s\n",
            "747:\tlearn: 0.8817998\ttotal: 58.9s\tremaining: 19.8s\n",
            "748:\tlearn: 0.8817707\ttotal: 59s\tremaining: 19.8s\n",
            "749:\tlearn: 0.8817419\ttotal: 59s\tremaining: 19.7s\n",
            "750:\tlearn: 0.8817166\ttotal: 59.1s\tremaining: 19.6s\n",
            "751:\tlearn: 0.8816761\ttotal: 59.2s\tremaining: 19.5s\n",
            "752:\tlearn: 0.8816512\ttotal: 59.3s\tremaining: 19.5s\n",
            "753:\tlearn: 0.8816396\ttotal: 59.4s\tremaining: 19.4s\n",
            "754:\tlearn: 0.8816105\ttotal: 59.5s\tremaining: 19.3s\n",
            "755:\tlearn: 0.8815810\ttotal: 59.5s\tremaining: 19.2s\n",
            "756:\tlearn: 0.8815488\ttotal: 59.6s\tremaining: 19.1s\n",
            "757:\tlearn: 0.8815436\ttotal: 59.7s\tremaining: 19.1s\n",
            "758:\tlearn: 0.8815110\ttotal: 59.8s\tremaining: 19s\n",
            "759:\tlearn: 0.8814520\ttotal: 59.9s\tremaining: 18.9s\n",
            "760:\tlearn: 0.8814337\ttotal: 1m\tremaining: 18.8s\n",
            "761:\tlearn: 0.8813934\ttotal: 1m\tremaining: 18.8s\n",
            "762:\tlearn: 0.8813671\ttotal: 1m\tremaining: 18.7s\n",
            "763:\tlearn: 0.8813475\ttotal: 1m\tremaining: 18.6s\n",
            "764:\tlearn: 0.8813245\ttotal: 1m\tremaining: 18.5s\n",
            "765:\tlearn: 0.8813158\ttotal: 1m\tremaining: 18.5s\n",
            "766:\tlearn: 0.8813017\ttotal: 1m\tremaining: 18.4s\n",
            "767:\tlearn: 0.8812640\ttotal: 1m\tremaining: 18.3s\n",
            "768:\tlearn: 0.8812449\ttotal: 1m\tremaining: 18.2s\n",
            "769:\tlearn: 0.8812286\ttotal: 1m\tremaining: 18.1s\n",
            "770:\tlearn: 0.8812096\ttotal: 1m\tremaining: 18.1s\n",
            "771:\tlearn: 0.8811923\ttotal: 1m\tremaining: 18s\n",
            "772:\tlearn: 0.8811810\ttotal: 1m 1s\tremaining: 17.9s\n",
            "773:\tlearn: 0.8811504\ttotal: 1m 1s\tremaining: 17.8s\n",
            "774:\tlearn: 0.8811147\ttotal: 1m 1s\tremaining: 17.8s\n",
            "775:\tlearn: 0.8810940\ttotal: 1m 1s\tremaining: 17.7s\n",
            "776:\tlearn: 0.8810631\ttotal: 1m 1s\tremaining: 17.6s\n",
            "777:\tlearn: 0.8810345\ttotal: 1m 1s\tremaining: 17.5s\n",
            "778:\tlearn: 0.8810110\ttotal: 1m 1s\tremaining: 17.5s\n",
            "779:\tlearn: 0.8809811\ttotal: 1m 1s\tremaining: 17.4s\n",
            "780:\tlearn: 0.8809351\ttotal: 1m 1s\tremaining: 17.3s\n",
            "781:\tlearn: 0.8809184\ttotal: 1m 1s\tremaining: 17.2s\n",
            "782:\tlearn: 0.8808751\ttotal: 1m 1s\tremaining: 17.1s\n",
            "783:\tlearn: 0.8808579\ttotal: 1m 1s\tremaining: 17.1s\n",
            "784:\tlearn: 0.8808491\ttotal: 1m 2s\tremaining: 17s\n",
            "785:\tlearn: 0.8808179\ttotal: 1m 2s\tremaining: 16.9s\n",
            "786:\tlearn: 0.8808025\ttotal: 1m 2s\tremaining: 16.8s\n",
            "787:\tlearn: 0.8807768\ttotal: 1m 2s\tremaining: 16.8s\n",
            "788:\tlearn: 0.8807479\ttotal: 1m 2s\tremaining: 16.7s\n",
            "789:\tlearn: 0.8807266\ttotal: 1m 2s\tremaining: 16.6s\n",
            "790:\tlearn: 0.8807109\ttotal: 1m 2s\tremaining: 16.5s\n",
            "791:\tlearn: 0.8806990\ttotal: 1m 2s\tremaining: 16.4s\n",
            "792:\tlearn: 0.8806845\ttotal: 1m 2s\tremaining: 16.4s\n",
            "793:\tlearn: 0.8806605\ttotal: 1m 2s\tremaining: 16.3s\n",
            "794:\tlearn: 0.8806337\ttotal: 1m 2s\tremaining: 16.2s\n",
            "795:\tlearn: 0.8806166\ttotal: 1m 2s\tremaining: 16.1s\n",
            "796:\tlearn: 0.8805991\ttotal: 1m 3s\tremaining: 16.1s\n",
            "797:\tlearn: 0.8805778\ttotal: 1m 3s\tremaining: 16s\n",
            "798:\tlearn: 0.8805588\ttotal: 1m 3s\tremaining: 15.9s\n",
            "799:\tlearn: 0.8805462\ttotal: 1m 3s\tremaining: 15.8s\n",
            "800:\tlearn: 0.8805302\ttotal: 1m 3s\tremaining: 15.7s\n",
            "801:\tlearn: 0.8805192\ttotal: 1m 3s\tremaining: 15.7s\n",
            "802:\tlearn: 0.8805025\ttotal: 1m 3s\tremaining: 15.6s\n",
            "803:\tlearn: 0.8804741\ttotal: 1m 3s\tremaining: 15.5s\n",
            "804:\tlearn: 0.8804497\ttotal: 1m 3s\tremaining: 15.4s\n",
            "805:\tlearn: 0.8803890\ttotal: 1m 3s\tremaining: 15.3s\n",
            "806:\tlearn: 0.8803734\ttotal: 1m 3s\tremaining: 15.2s\n",
            "807:\tlearn: 0.8803457\ttotal: 1m 3s\tremaining: 15.2s\n",
            "808:\tlearn: 0.8803234\ttotal: 1m 3s\tremaining: 15.1s\n",
            "809:\tlearn: 0.8802984\ttotal: 1m 4s\tremaining: 15s\n",
            "810:\tlearn: 0.8802776\ttotal: 1m 4s\tremaining: 14.9s\n",
            "811:\tlearn: 0.8802578\ttotal: 1m 4s\tremaining: 14.9s\n",
            "812:\tlearn: 0.8802289\ttotal: 1m 4s\tremaining: 14.8s\n",
            "813:\tlearn: 0.8802119\ttotal: 1m 4s\tremaining: 14.7s\n",
            "814:\tlearn: 0.8802036\ttotal: 1m 4s\tremaining: 14.6s\n",
            "815:\tlearn: 0.8801902\ttotal: 1m 4s\tremaining: 14.6s\n",
            "816:\tlearn: 0.8801686\ttotal: 1m 4s\tremaining: 14.5s\n",
            "817:\tlearn: 0.8801146\ttotal: 1m 4s\tremaining: 14.4s\n",
            "818:\tlearn: 0.8800640\ttotal: 1m 4s\tremaining: 14.3s\n",
            "819:\tlearn: 0.8800380\ttotal: 1m 4s\tremaining: 14.3s\n",
            "820:\tlearn: 0.8799870\ttotal: 1m 5s\tremaining: 14.2s\n",
            "821:\tlearn: 0.8799693\ttotal: 1m 5s\tremaining: 14.1s\n",
            "822:\tlearn: 0.8799615\ttotal: 1m 5s\tremaining: 14s\n",
            "823:\tlearn: 0.8799403\ttotal: 1m 5s\tremaining: 13.9s\n",
            "824:\tlearn: 0.8799218\ttotal: 1m 5s\tremaining: 13.9s\n",
            "825:\tlearn: 0.8798754\ttotal: 1m 5s\tremaining: 13.8s\n",
            "826:\tlearn: 0.8798630\ttotal: 1m 5s\tremaining: 13.7s\n",
            "827:\tlearn: 0.8798280\ttotal: 1m 5s\tremaining: 13.6s\n",
            "828:\tlearn: 0.8798147\ttotal: 1m 5s\tremaining: 13.6s\n",
            "829:\tlearn: 0.8797826\ttotal: 1m 5s\tremaining: 13.5s\n",
            "830:\tlearn: 0.8797699\ttotal: 1m 5s\tremaining: 13.4s\n",
            "831:\tlearn: 0.8797400\ttotal: 1m 5s\tremaining: 13.3s\n",
            "832:\tlearn: 0.8797147\ttotal: 1m 6s\tremaining: 13.3s\n",
            "833:\tlearn: 0.8796992\ttotal: 1m 6s\tremaining: 13.2s\n",
            "834:\tlearn: 0.8796882\ttotal: 1m 6s\tremaining: 13.1s\n",
            "835:\tlearn: 0.8796713\ttotal: 1m 6s\tremaining: 13s\n",
            "836:\tlearn: 0.8796205\ttotal: 1m 6s\tremaining: 12.9s\n",
            "837:\tlearn: 0.8795878\ttotal: 1m 6s\tremaining: 12.9s\n",
            "838:\tlearn: 0.8795724\ttotal: 1m 6s\tremaining: 12.8s\n",
            "839:\tlearn: 0.8795524\ttotal: 1m 6s\tremaining: 12.7s\n",
            "840:\tlearn: 0.8795318\ttotal: 1m 6s\tremaining: 12.6s\n",
            "841:\tlearn: 0.8795130\ttotal: 1m 6s\tremaining: 12.5s\n",
            "842:\tlearn: 0.8794898\ttotal: 1m 6s\tremaining: 12.5s\n",
            "843:\tlearn: 0.8794695\ttotal: 1m 6s\tremaining: 12.4s\n",
            "844:\tlearn: 0.8794557\ttotal: 1m 7s\tremaining: 12.3s\n",
            "845:\tlearn: 0.8794422\ttotal: 1m 7s\tremaining: 12.2s\n",
            "846:\tlearn: 0.8794128\ttotal: 1m 7s\tremaining: 12.1s\n",
            "847:\tlearn: 0.8793935\ttotal: 1m 7s\tremaining: 12.1s\n",
            "848:\tlearn: 0.8793620\ttotal: 1m 7s\tremaining: 12s\n",
            "849:\tlearn: 0.8793315\ttotal: 1m 7s\tremaining: 11.9s\n",
            "850:\tlearn: 0.8793120\ttotal: 1m 7s\tremaining: 11.8s\n",
            "851:\tlearn: 0.8792925\ttotal: 1m 7s\tremaining: 11.7s\n",
            "852:\tlearn: 0.8792773\ttotal: 1m 7s\tremaining: 11.7s\n",
            "853:\tlearn: 0.8792498\ttotal: 1m 7s\tremaining: 11.6s\n",
            "854:\tlearn: 0.8792311\ttotal: 1m 7s\tremaining: 11.5s\n",
            "855:\tlearn: 0.8792174\ttotal: 1m 7s\tremaining: 11.4s\n",
            "856:\tlearn: 0.8791926\ttotal: 1m 7s\tremaining: 11.3s\n",
            "857:\tlearn: 0.8791800\ttotal: 1m 8s\tremaining: 11.3s\n",
            "858:\tlearn: 0.8791676\ttotal: 1m 8s\tremaining: 11.2s\n",
            "859:\tlearn: 0.8791505\ttotal: 1m 8s\tremaining: 11.1s\n",
            "860:\tlearn: 0.8790882\ttotal: 1m 8s\tremaining: 11s\n",
            "861:\tlearn: 0.8790720\ttotal: 1m 8s\tremaining: 11s\n",
            "862:\tlearn: 0.8790519\ttotal: 1m 8s\tremaining: 10.9s\n",
            "863:\tlearn: 0.8790314\ttotal: 1m 8s\tremaining: 10.8s\n",
            "864:\tlearn: 0.8790123\ttotal: 1m 8s\tremaining: 10.7s\n",
            "865:\tlearn: 0.8789797\ttotal: 1m 8s\tremaining: 10.6s\n",
            "866:\tlearn: 0.8789625\ttotal: 1m 8s\tremaining: 10.6s\n",
            "867:\tlearn: 0.8789121\ttotal: 1m 8s\tremaining: 10.5s\n",
            "868:\tlearn: 0.8788945\ttotal: 1m 8s\tremaining: 10.4s\n",
            "869:\tlearn: 0.8788620\ttotal: 1m 9s\tremaining: 10.3s\n",
            "870:\tlearn: 0.8788538\ttotal: 1m 9s\tremaining: 10.2s\n",
            "871:\tlearn: 0.8788223\ttotal: 1m 9s\tremaining: 10.2s\n",
            "872:\tlearn: 0.8788133\ttotal: 1m 9s\tremaining: 10.1s\n",
            "873:\tlearn: 0.8788026\ttotal: 1m 9s\tremaining: 9.99s\n",
            "874:\tlearn: 0.8787832\ttotal: 1m 9s\tremaining: 9.91s\n",
            "875:\tlearn: 0.8787692\ttotal: 1m 9s\tremaining: 9.83s\n",
            "876:\tlearn: 0.8787375\ttotal: 1m 9s\tremaining: 9.76s\n",
            "877:\tlearn: 0.8787154\ttotal: 1m 9s\tremaining: 9.68s\n",
            "878:\tlearn: 0.8787080\ttotal: 1m 9s\tremaining: 9.6s\n",
            "879:\tlearn: 0.8786888\ttotal: 1m 9s\tremaining: 9.52s\n",
            "880:\tlearn: 0.8786537\ttotal: 1m 9s\tremaining: 9.44s\n",
            "881:\tlearn: 0.8786396\ttotal: 1m 9s\tremaining: 9.36s\n",
            "882:\tlearn: 0.8786098\ttotal: 1m 10s\tremaining: 9.28s\n",
            "883:\tlearn: 0.8785939\ttotal: 1m 10s\tremaining: 9.2s\n",
            "884:\tlearn: 0.8785660\ttotal: 1m 10s\tremaining: 9.12s\n",
            "885:\tlearn: 0.8785478\ttotal: 1m 10s\tremaining: 9.04s\n",
            "886:\tlearn: 0.8785316\ttotal: 1m 10s\tremaining: 8.96s\n",
            "887:\tlearn: 0.8785009\ttotal: 1m 10s\tremaining: 8.89s\n",
            "888:\tlearn: 0.8784817\ttotal: 1m 10s\tremaining: 8.81s\n",
            "889:\tlearn: 0.8784557\ttotal: 1m 10s\tremaining: 8.72s\n",
            "890:\tlearn: 0.8784343\ttotal: 1m 10s\tremaining: 8.65s\n",
            "891:\tlearn: 0.8784111\ttotal: 1m 10s\tremaining: 8.57s\n",
            "892:\tlearn: 0.8783950\ttotal: 1m 10s\tremaining: 8.49s\n",
            "893:\tlearn: 0.8783787\ttotal: 1m 10s\tremaining: 8.41s\n",
            "894:\tlearn: 0.8783296\ttotal: 1m 11s\tremaining: 8.33s\n",
            "895:\tlearn: 0.8783021\ttotal: 1m 11s\tremaining: 8.25s\n",
            "896:\tlearn: 0.8782841\ttotal: 1m 11s\tremaining: 8.17s\n",
            "897:\tlearn: 0.8782679\ttotal: 1m 11s\tremaining: 8.09s\n",
            "898:\tlearn: 0.8782469\ttotal: 1m 11s\tremaining: 8.01s\n",
            "899:\tlearn: 0.8782318\ttotal: 1m 11s\tremaining: 7.93s\n",
            "900:\tlearn: 0.8782170\ttotal: 1m 11s\tremaining: 7.86s\n",
            "901:\tlearn: 0.8782038\ttotal: 1m 11s\tremaining: 7.78s\n",
            "902:\tlearn: 0.8781852\ttotal: 1m 11s\tremaining: 7.7s\n",
            "903:\tlearn: 0.8781708\ttotal: 1m 11s\tremaining: 7.62s\n",
            "904:\tlearn: 0.8781524\ttotal: 1m 11s\tremaining: 7.54s\n",
            "905:\tlearn: 0.8781406\ttotal: 1m 11s\tremaining: 7.46s\n",
            "906:\tlearn: 0.8781153\ttotal: 1m 12s\tremaining: 7.38s\n",
            "907:\tlearn: 0.8781042\ttotal: 1m 12s\tremaining: 7.3s\n",
            "908:\tlearn: 0.8780555\ttotal: 1m 12s\tremaining: 7.22s\n",
            "909:\tlearn: 0.8780238\ttotal: 1m 12s\tremaining: 7.15s\n",
            "910:\tlearn: 0.8779688\ttotal: 1m 12s\tremaining: 7.07s\n",
            "911:\tlearn: 0.8779570\ttotal: 1m 12s\tremaining: 6.99s\n",
            "912:\tlearn: 0.8779437\ttotal: 1m 12s\tremaining: 6.91s\n",
            "913:\tlearn: 0.8779302\ttotal: 1m 12s\tremaining: 6.83s\n",
            "914:\tlearn: 0.8779138\ttotal: 1m 12s\tremaining: 6.75s\n",
            "915:\tlearn: 0.8778959\ttotal: 1m 12s\tremaining: 6.67s\n",
            "916:\tlearn: 0.8778869\ttotal: 1m 12s\tremaining: 6.59s\n",
            "917:\tlearn: 0.8778622\ttotal: 1m 12s\tremaining: 6.51s\n",
            "918:\tlearn: 0.8778017\ttotal: 1m 13s\tremaining: 6.43s\n",
            "919:\tlearn: 0.8777947\ttotal: 1m 13s\tremaining: 6.35s\n",
            "920:\tlearn: 0.8777807\ttotal: 1m 13s\tremaining: 6.27s\n",
            "921:\tlearn: 0.8777622\ttotal: 1m 13s\tremaining: 6.2s\n",
            "922:\tlearn: 0.8777526\ttotal: 1m 13s\tremaining: 6.12s\n",
            "923:\tlearn: 0.8777401\ttotal: 1m 13s\tremaining: 6.04s\n",
            "924:\tlearn: 0.8776904\ttotal: 1m 13s\tremaining: 5.96s\n",
            "925:\tlearn: 0.8776773\ttotal: 1m 13s\tremaining: 5.88s\n",
            "926:\tlearn: 0.8776530\ttotal: 1m 13s\tremaining: 5.8s\n",
            "927:\tlearn: 0.8776386\ttotal: 1m 13s\tremaining: 5.72s\n",
            "928:\tlearn: 0.8776001\ttotal: 1m 13s\tremaining: 5.64s\n",
            "929:\tlearn: 0.8775884\ttotal: 1m 13s\tremaining: 5.56s\n",
            "930:\tlearn: 0.8775736\ttotal: 1m 14s\tremaining: 5.48s\n",
            "931:\tlearn: 0.8775540\ttotal: 1m 14s\tremaining: 5.41s\n",
            "932:\tlearn: 0.8775208\ttotal: 1m 14s\tremaining: 5.33s\n",
            "933:\tlearn: 0.8774793\ttotal: 1m 14s\tremaining: 5.25s\n",
            "934:\tlearn: 0.8774650\ttotal: 1m 14s\tremaining: 5.17s\n",
            "935:\tlearn: 0.8774339\ttotal: 1m 14s\tremaining: 5.09s\n",
            "936:\tlearn: 0.8774117\ttotal: 1m 14s\tremaining: 5.01s\n",
            "937:\tlearn: 0.8773917\ttotal: 1m 14s\tremaining: 4.93s\n",
            "938:\tlearn: 0.8773646\ttotal: 1m 14s\tremaining: 4.85s\n",
            "939:\tlearn: 0.8773497\ttotal: 1m 14s\tremaining: 4.77s\n",
            "940:\tlearn: 0.8773265\ttotal: 1m 14s\tremaining: 4.69s\n",
            "941:\tlearn: 0.8773077\ttotal: 1m 14s\tremaining: 4.61s\n",
            "942:\tlearn: 0.8772816\ttotal: 1m 14s\tremaining: 4.53s\n",
            "943:\tlearn: 0.8772411\ttotal: 1m 15s\tremaining: 4.45s\n",
            "944:\tlearn: 0.8772229\ttotal: 1m 15s\tremaining: 4.37s\n",
            "945:\tlearn: 0.8772051\ttotal: 1m 15s\tremaining: 4.29s\n",
            "946:\tlearn: 0.8771934\ttotal: 1m 15s\tremaining: 4.21s\n",
            "947:\tlearn: 0.8771621\ttotal: 1m 15s\tremaining: 4.13s\n",
            "948:\tlearn: 0.8771416\ttotal: 1m 15s\tremaining: 4.05s\n",
            "949:\tlearn: 0.8771311\ttotal: 1m 15s\tremaining: 3.97s\n",
            "950:\tlearn: 0.8771112\ttotal: 1m 15s\tremaining: 3.89s\n",
            "951:\tlearn: 0.8770741\ttotal: 1m 15s\tremaining: 3.81s\n",
            "952:\tlearn: 0.8770551\ttotal: 1m 15s\tremaining: 3.73s\n",
            "953:\tlearn: 0.8770312\ttotal: 1m 15s\tremaining: 3.65s\n",
            "954:\tlearn: 0.8770268\ttotal: 1m 15s\tremaining: 3.58s\n",
            "955:\tlearn: 0.8770161\ttotal: 1m 15s\tremaining: 3.5s\n",
            "956:\tlearn: 0.8769994\ttotal: 1m 16s\tremaining: 3.42s\n",
            "957:\tlearn: 0.8769872\ttotal: 1m 16s\tremaining: 3.34s\n",
            "958:\tlearn: 0.8769685\ttotal: 1m 16s\tremaining: 3.26s\n",
            "959:\tlearn: 0.8769531\ttotal: 1m 16s\tremaining: 3.18s\n",
            "960:\tlearn: 0.8769045\ttotal: 1m 16s\tremaining: 3.1s\n",
            "961:\tlearn: 0.8768768\ttotal: 1m 16s\tremaining: 3.02s\n",
            "962:\tlearn: 0.8768591\ttotal: 1m 16s\tremaining: 2.94s\n",
            "963:\tlearn: 0.8768252\ttotal: 1m 16s\tremaining: 2.86s\n",
            "964:\tlearn: 0.8768003\ttotal: 1m 16s\tremaining: 2.78s\n",
            "965:\tlearn: 0.8767802\ttotal: 1m 16s\tremaining: 2.7s\n",
            "966:\tlearn: 0.8767658\ttotal: 1m 16s\tremaining: 2.62s\n",
            "967:\tlearn: 0.8767177\ttotal: 1m 16s\tremaining: 2.54s\n",
            "968:\tlearn: 0.8766992\ttotal: 1m 17s\tremaining: 2.46s\n",
            "969:\tlearn: 0.8766827\ttotal: 1m 17s\tremaining: 2.38s\n",
            "970:\tlearn: 0.8766774\ttotal: 1m 17s\tremaining: 2.31s\n",
            "971:\tlearn: 0.8766568\ttotal: 1m 17s\tremaining: 2.23s\n",
            "972:\tlearn: 0.8766416\ttotal: 1m 17s\tremaining: 2.15s\n",
            "973:\tlearn: 0.8766289\ttotal: 1m 17s\tremaining: 2.07s\n",
            "974:\tlearn: 0.8766130\ttotal: 1m 17s\tremaining: 1.99s\n",
            "975:\tlearn: 0.8765944\ttotal: 1m 17s\tremaining: 1.91s\n",
            "976:\tlearn: 0.8765865\ttotal: 1m 17s\tremaining: 1.83s\n",
            "977:\tlearn: 0.8765649\ttotal: 1m 17s\tremaining: 1.75s\n",
            "978:\tlearn: 0.8765425\ttotal: 1m 17s\tremaining: 1.67s\n",
            "979:\tlearn: 0.8765297\ttotal: 1m 17s\tremaining: 1.59s\n",
            "980:\tlearn: 0.8765210\ttotal: 1m 17s\tremaining: 1.51s\n",
            "981:\tlearn: 0.8765071\ttotal: 1m 18s\tremaining: 1.43s\n",
            "982:\tlearn: 0.8764935\ttotal: 1m 18s\tremaining: 1.35s\n",
            "983:\tlearn: 0.8764721\ttotal: 1m 18s\tremaining: 1.27s\n",
            "984:\tlearn: 0.8764184\ttotal: 1m 18s\tremaining: 1.19s\n",
            "985:\tlearn: 0.8763967\ttotal: 1m 18s\tremaining: 1.11s\n",
            "986:\tlearn: 0.8763880\ttotal: 1m 18s\tremaining: 1.03s\n",
            "987:\tlearn: 0.8763738\ttotal: 1m 18s\tremaining: 952ms\n",
            "988:\tlearn: 0.8763439\ttotal: 1m 18s\tremaining: 873ms\n",
            "989:\tlearn: 0.8763371\ttotal: 1m 18s\tremaining: 794ms\n",
            "990:\tlearn: 0.8763186\ttotal: 1m 18s\tremaining: 714ms\n",
            "991:\tlearn: 0.8762920\ttotal: 1m 18s\tremaining: 635ms\n",
            "992:\tlearn: 0.8762677\ttotal: 1m 18s\tremaining: 556ms\n",
            "993:\tlearn: 0.8762470\ttotal: 1m 18s\tremaining: 476ms\n",
            "994:\tlearn: 0.8762281\ttotal: 1m 18s\tremaining: 397ms\n",
            "995:\tlearn: 0.8762091\ttotal: 1m 19s\tremaining: 318ms\n",
            "996:\tlearn: 0.8761983\ttotal: 1m 19s\tremaining: 238ms\n",
            "997:\tlearn: 0.8761896\ttotal: 1m 19s\tremaining: 159ms\n",
            "998:\tlearn: 0.8761767\ttotal: 1m 19s\tremaining: 79.4ms\n",
            "999:\tlearn: 0.8761627\ttotal: 1m 19s\tremaining: 0us\n"
          ],
          "name": "stdout"
        },
        {
          "output_type": "execute_result",
          "data": {
            "text/plain": [
              "<catboost.core.CatBoostRegressor at 0x7feddaadfb90>"
            ]
          },
          "metadata": {
            "tags": []
          },
          "execution_count": 496
        }
      ]
    },
    {
      "cell_type": "code",
      "metadata": {
        "colab": {
          "base_uri": "https://localhost:8080/"
        },
        "id": "nu_XBFDS47bM",
        "outputId": "ee65730a-c666-4d25-e3ef-1cbe70f5cf88"
      },
      "source": [
        "x=best_model.predict(x_test)\r\n",
        "best_model.score(x_test,y_test) "
      ],
      "execution_count": 497,
      "outputs": [
        {
          "output_type": "execute_result",
          "data": {
            "text/plain": [
              "0.3084277587995218"
            ]
          },
          "metadata": {
            "tags": []
          },
          "execution_count": 497
        }
      ]
    },
    {
      "cell_type": "code",
      "metadata": {
        "colab": {
          "base_uri": "https://localhost:8080/"
        },
        "id": "Bo-BLbdxkS6U",
        "outputId": "ffafb66a-d9f8-43b3-fc2c-753cee2e9f7b"
      },
      "source": [
        "v=mean_squared_error(y_test,x)\r\n",
        "print(v)"
      ],
      "execution_count": 498,
      "outputs": [
        {
          "output_type": "stream",
          "text": [
            "1.0041481440746565\n"
          ],
          "name": "stdout"
        }
      ]
    }
  ]
}